{
 "cells": [
  {
   "cell_type": "markdown",
   "id": "active-lucas",
   "metadata": {},
   "source": [
    "# SJ_FS_FLUX_processing.ipynb\n",
    "\n",
    "```\n",
    "H Thompson\n",
    "UQAM\n",
    "Oct 2021\n",
    "```"
   ]
  },
  {
   "cell_type": "markdown",
   "id": "innovative-roots",
   "metadata": {},
   "source": [
    "## Imports"
   ]
  },
  {
   "cell_type": "code",
   "execution_count": 1,
   "id": "atmospheric-removal",
   "metadata": {},
   "outputs": [],
   "source": [
    "import pandas as pd\n",
    "import numpy as np\n",
    "import matplotlib.pyplot as plt\n",
    "import datetime\n",
    "import os\n",
    "import fnmatch as fn"
   ]
  },
  {
   "cell_type": "markdown",
   "id": "functioning-magic",
   "metadata": {},
   "source": [
    "## Constants"
   ]
  },
  {
   "cell_type": "code",
   "execution_count": 2,
   "id": "greatest-shopper",
   "metadata": {},
   "outputs": [],
   "source": [
    "yr = 2021\n",
    "mnth = 4"
   ]
  },
  {
   "cell_type": "code",
   "execution_count": 3,
   "id": "immune-audience",
   "metadata": {},
   "outputs": [],
   "source": [
    "prev_mnth = int(mnth)-1\n",
    "if prev_mnth == 12:\n",
    "    prev_yr = yr-1\n",
    "else:\n",
    "    prev_yr = yr\n",
    "    \n",
    "next_mnth = int(mnth)+1\n",
    "if next_mnth == 13:\n",
    "    next_yr = yr+1\n",
    "    next_mnth = 1\n",
    "else:\n",
    "    next_yr = yr"
   ]
  },
  {
   "cell_type": "code",
   "execution_count": 4,
   "id": "transparent-terrain",
   "metadata": {},
   "outputs": [],
   "source": [
    "days = pd.Period(f'{yr}-{mnth}-01').days_in_month\n",
    "ind = pd.date_range(f'{yr}-{mnth:02d}-01 00:00:00',f'{yr}-{mnth:02d}-{days} 23:59:00',freq='30min')"
   ]
  },
  {
   "cell_type": "markdown",
   "id": "higher-prison",
   "metadata": {},
   "source": [
    "## Files"
   ]
  },
  {
   "cell_type": "code",
   "execution_count": 5,
   "id": "married-penalty",
   "metadata": {},
   "outputs": [],
   "source": [
    "path = f'../FixedStation/flux/{yr}_{mnth:02d}/raw/'\n",
    "\n",
    "AM_list = [f for f in os.listdir(path) if fn.fnmatch(f, '7049_*_AmeriFluxFormat_*.dat')]\n",
    "CS_list = [f for f in os.listdir(path) if fn.fnmatch(f, 'TOA5_*_CSFormat_*.dat')]\n",
    "FN_list = [f for f in os.listdir(path) if fn.fnmatch(f, 'TOA5_*_Notes_*.dat')]"
   ]
  },
  {
   "cell_type": "code",
   "execution_count": 6,
   "id": "modified-quebec",
   "metadata": {},
   "outputs": [],
   "source": [
    "if os.path.exists(f'../FixedStation/flux/{yr}_{prev_mnth:02d}/raw/'):\n",
    "    prev_path = f'../FixedStation/flux/{yr}_{prev_mnth:02d}/raw/'\n",
    "    \n",
    "    prev_AM_list = [f for f in os.listdir(prev_path) if fn.fnmatch(f, '7049_*_AmeriFluxFormat_*.dat')]\n",
    "    prev_CS_list = [f for f in os.listdir(prev_path) if fn.fnmatch(f, 'TOA5_*_CSFormat_*.dat')]\n",
    "    prev_FN_list = [f for f in os.listdir(prev_path) if fn.fnmatch(f, 'TOA5_*_Notes_*.dat')]"
   ]
  },
  {
   "cell_type": "code",
   "execution_count": 7,
   "id": "radio-moldova",
   "metadata": {},
   "outputs": [],
   "source": [
    "if os.path.exists(f'../FixedStation/flux/{yr}_{next_mnth:02d}/raw/'):\n",
    "    next_path = f'../FixedStation/flux/{yr}_{next_mnth:02d}/raw/'\n",
    "\n",
    "    next_AM_list = [f for f in os.listdir(next_path) if fn.fnmatch(f, '7049_*_AmeriFluxFormat_*.dat')]\n",
    "    next_CS_list = [f for f in os.listdir(next_path) if fn.fnmatch(f, 'TOA5_*_CSFormat_*.dat')]\n",
    "    next_FN_list = [f for f in os.listdir(next_path) if fn.fnmatch(f, 'TOA5_*_Notes_*.dat')]"
   ]
  },
  {
   "cell_type": "code",
   "execution_count": 8,
   "id": "structured-agriculture",
   "metadata": {},
   "outputs": [
    {
     "name": "stdout",
     "output_type": "stream",
     "text": [
      "Started working on 7049_Flux_AmeriFluxFormat_5.dat\n",
      "Started working on 7049_Flux_AmeriFluxFormat_4.dat\n",
      "Started working on 7049_Flux_AmeriFluxFormat_3.dat\n",
      "Started working on 7049_Flux_AmeriFluxFormat_0.dat\n",
      "Started working on 7049_Flux_AmeriFluxFormat_1.dat\n",
      "Started working on 7049_Flux_AmeriFluxFormat_2.dat\n",
      "Created: ../FixedStation/flux/2021_04/master/SJ_FS_FLUX_AM_202104.txt\n"
     ]
    }
   ],
   "source": [
    "frames = []\n",
    "prev_frames = []\n",
    "next_frames = []\n",
    "\n",
    "for f in AM_list:\n",
    "    print(f'Started working on {f}')\n",
    "    frame = pd.read_csv(path + f'{f}', header=0, skiprows=(1,2))\n",
    "\n",
    "    frame['Timestamp'] = pd.to_datetime(frame.TIMESTAMP_START, format='%Y%m%d%H%M')\n",
    "\n",
    "    frame.set_index(frame.Timestamp, inplace=True)\n",
    "    \n",
    "    frame.sort_index(inplace=True)\n",
    "    \n",
    "    frames.append(frame)\n",
    "    \n",
    "if os.path.exists(f'../FixedStation/flux/{yr}_{prev_mnth:02d}/'):\n",
    "    for f in prev_AM_list:\n",
    "        print(f'Started working on {f}')\n",
    "        prev_frame = pd.read_csv(prev_path + f'{f}', header=0, skiprows=(1,2))\n",
    "\n",
    "        prev_frame['Timestamp'] = pd.to_datetime(prev_frame.TIMESTAMP_START, format='%Y%m%d%H%M')\n",
    "\n",
    "        prev_frame.set_index(prev_frame.Timestamp, inplace=True)\n",
    "\n",
    "        prev_frame.sort_index(inplace=True)\n",
    "\n",
    "        prev_frames.append(prev_frame)\n",
    "\n",
    "frames.extend(prev_frames)\n",
    "\n",
    "if os.path.exists(f'../FixedStation/flux/{yr}_{next_mnth:02d}/'):\n",
    "    for f in next_AM_list:\n",
    "        print(f'Started working on {f}')\n",
    "        next_frame = pd.read_csv(next_path + f'{f}', header=0, skiprows=(1,2))\n",
    "\n",
    "        next_frame['Timestamp'] = pd.to_datetime(next_frame.TIMESTAMP_START, format='%Y%m%d%H%M')\n",
    "\n",
    "        next_frame.set_index(next_frame.Timestamp, inplace=True)\n",
    "\n",
    "        next_frame.sort_index(inplace=True)\n",
    "\n",
    "        next_frames.append(next_frame)\n",
    "        \n",
    "frames.extend(next_frames)\n",
    "\n",
    "AM_df = pd.concat(frames)\n",
    "\n",
    "AM_df.sort_index(inplace=True)\n",
    "\n",
    "del(AM_df['Timestamp'])\n",
    "\n",
    "sub_df = AM_df[AM_df.index.month==int(mnth)]\n",
    "sub_df = sub_df[~sub_df.index.duplicated()]\n",
    "reindxd_df = sub_df.reindex(index=ind)\n",
    "reindxd_df.index.name='Timestamp'\n",
    "\n",
    "out_path = f'../FixedStation/flux/{yr}_{mnth:02d}/master/'\n",
    "reindxd_df.to_csv(out_path + f'SJ_FS_FLUX_AM_{yr}{mnth:02d}.txt')\n",
    "print(f'Created: ' + out_path + f'SJ_FS_FLUX_AM_{yr}{mnth:02d}.txt')"
   ]
  },
  {
   "cell_type": "code",
   "execution_count": 9,
   "id": "contemporary-guarantee",
   "metadata": {},
   "outputs": [
    {
     "name": "stdout",
     "output_type": "stream",
     "text": [
      "Started working on TOA5_7049_Flux_CSFormat_23.dat\n"
     ]
    },
    {
     "ename": "FileNotFoundError",
     "evalue": "[Errno 2] No such file or directory: '../FixedStation/flux/2021_04/raw/rTOA5_7049_Flux_CSFormat_23.dat'",
     "output_type": "error",
     "traceback": [
      "\u001b[0;31m---------------------------------------------------------------------------\u001b[0m",
      "\u001b[0;31mFileNotFoundError\u001b[0m                         Traceback (most recent call last)",
      "\u001b[0;32m<ipython-input-9-a40727658001>\u001b[0m in \u001b[0;36m<module>\u001b[0;34m\u001b[0m\n\u001b[1;32m      5\u001b[0m \u001b[0;32mfor\u001b[0m \u001b[0mf\u001b[0m \u001b[0;32min\u001b[0m \u001b[0mCS_list\u001b[0m\u001b[0;34m:\u001b[0m\u001b[0;34m\u001b[0m\u001b[0;34m\u001b[0m\u001b[0m\n\u001b[1;32m      6\u001b[0m     \u001b[0mprint\u001b[0m\u001b[0;34m(\u001b[0m\u001b[0;34mf'Started working on {f}'\u001b[0m\u001b[0;34m)\u001b[0m\u001b[0;34m\u001b[0m\u001b[0;34m\u001b[0m\u001b[0m\n\u001b[0;32m----> 7\u001b[0;31m     \u001b[0mframe\u001b[0m \u001b[0;34m=\u001b[0m \u001b[0mpd\u001b[0m\u001b[0;34m.\u001b[0m\u001b[0mread_csv\u001b[0m\u001b[0;34m(\u001b[0m\u001b[0mpath\u001b[0m \u001b[0;34m+\u001b[0m \u001b[0;34mf'r{f}'\u001b[0m\u001b[0;34m,\u001b[0m \u001b[0mheader\u001b[0m\u001b[0;34m=\u001b[0m\u001b[0;36m1\u001b[0m\u001b[0;34m,\u001b[0m \u001b[0mskiprows\u001b[0m\u001b[0;34m=\u001b[0m\u001b[0;34m(\u001b[0m\u001b[0;36m2\u001b[0m\u001b[0;34m,\u001b[0m\u001b[0;36m3\u001b[0m\u001b[0;34m)\u001b[0m\u001b[0;34m)\u001b[0m\u001b[0;34m\u001b[0m\u001b[0;34m\u001b[0m\u001b[0m\n\u001b[0m\u001b[1;32m      8\u001b[0m \u001b[0;34m\u001b[0m\u001b[0m\n\u001b[1;32m      9\u001b[0m     \u001b[0mframe\u001b[0m\u001b[0;34m.\u001b[0m\u001b[0mTIMESTAMP\u001b[0m \u001b[0;34m=\u001b[0m \u001b[0mpd\u001b[0m\u001b[0;34m.\u001b[0m\u001b[0mto_datetime\u001b[0m\u001b[0;34m(\u001b[0m\u001b[0mframe\u001b[0m\u001b[0;34m.\u001b[0m\u001b[0mTIMESTAMP\u001b[0m\u001b[0;34m,\u001b[0m \u001b[0minfer_datetime_format\u001b[0m\u001b[0;34m=\u001b[0m\u001b[0;32mTrue\u001b[0m\u001b[0;34m)\u001b[0m\u001b[0;34m\u001b[0m\u001b[0;34m\u001b[0m\u001b[0m\n",
      "\u001b[0;32m~/opt/miniconda3/envs/analysis_env/lib/python3.9/site-packages/pandas/io/parsers.py\u001b[0m in \u001b[0;36mread_csv\u001b[0;34m(filepath_or_buffer, sep, delimiter, header, names, index_col, usecols, squeeze, prefix, mangle_dupe_cols, dtype, engine, converters, true_values, false_values, skipinitialspace, skiprows, skipfooter, nrows, na_values, keep_default_na, na_filter, verbose, skip_blank_lines, parse_dates, infer_datetime_format, keep_date_col, date_parser, dayfirst, cache_dates, iterator, chunksize, compression, thousands, decimal, lineterminator, quotechar, quoting, doublequote, escapechar, comment, encoding, dialect, error_bad_lines, warn_bad_lines, delim_whitespace, low_memory, memory_map, float_precision, storage_options)\u001b[0m\n\u001b[1;32m    608\u001b[0m     \u001b[0mkwds\u001b[0m\u001b[0;34m.\u001b[0m\u001b[0mupdate\u001b[0m\u001b[0;34m(\u001b[0m\u001b[0mkwds_defaults\u001b[0m\u001b[0;34m)\u001b[0m\u001b[0;34m\u001b[0m\u001b[0;34m\u001b[0m\u001b[0m\n\u001b[1;32m    609\u001b[0m \u001b[0;34m\u001b[0m\u001b[0m\n\u001b[0;32m--> 610\u001b[0;31m     \u001b[0;32mreturn\u001b[0m \u001b[0m_read\u001b[0m\u001b[0;34m(\u001b[0m\u001b[0mfilepath_or_buffer\u001b[0m\u001b[0;34m,\u001b[0m \u001b[0mkwds\u001b[0m\u001b[0;34m)\u001b[0m\u001b[0;34m\u001b[0m\u001b[0;34m\u001b[0m\u001b[0m\n\u001b[0m\u001b[1;32m    611\u001b[0m \u001b[0;34m\u001b[0m\u001b[0m\n\u001b[1;32m    612\u001b[0m \u001b[0;34m\u001b[0m\u001b[0m\n",
      "\u001b[0;32m~/opt/miniconda3/envs/analysis_env/lib/python3.9/site-packages/pandas/io/parsers.py\u001b[0m in \u001b[0;36m_read\u001b[0;34m(filepath_or_buffer, kwds)\u001b[0m\n\u001b[1;32m    460\u001b[0m \u001b[0;34m\u001b[0m\u001b[0m\n\u001b[1;32m    461\u001b[0m     \u001b[0;31m# Create the parser.\u001b[0m\u001b[0;34m\u001b[0m\u001b[0;34m\u001b[0m\u001b[0;34m\u001b[0m\u001b[0m\n\u001b[0;32m--> 462\u001b[0;31m     \u001b[0mparser\u001b[0m \u001b[0;34m=\u001b[0m \u001b[0mTextFileReader\u001b[0m\u001b[0;34m(\u001b[0m\u001b[0mfilepath_or_buffer\u001b[0m\u001b[0;34m,\u001b[0m \u001b[0;34m**\u001b[0m\u001b[0mkwds\u001b[0m\u001b[0;34m)\u001b[0m\u001b[0;34m\u001b[0m\u001b[0;34m\u001b[0m\u001b[0m\n\u001b[0m\u001b[1;32m    463\u001b[0m \u001b[0;34m\u001b[0m\u001b[0m\n\u001b[1;32m    464\u001b[0m     \u001b[0;32mif\u001b[0m \u001b[0mchunksize\u001b[0m \u001b[0;32mor\u001b[0m \u001b[0miterator\u001b[0m\u001b[0;34m:\u001b[0m\u001b[0;34m\u001b[0m\u001b[0;34m\u001b[0m\u001b[0m\n",
      "\u001b[0;32m~/opt/miniconda3/envs/analysis_env/lib/python3.9/site-packages/pandas/io/parsers.py\u001b[0m in \u001b[0;36m__init__\u001b[0;34m(self, f, engine, **kwds)\u001b[0m\n\u001b[1;32m    817\u001b[0m             \u001b[0mself\u001b[0m\u001b[0;34m.\u001b[0m\u001b[0moptions\u001b[0m\u001b[0;34m[\u001b[0m\u001b[0;34m\"has_index_names\"\u001b[0m\u001b[0;34m]\u001b[0m \u001b[0;34m=\u001b[0m \u001b[0mkwds\u001b[0m\u001b[0;34m[\u001b[0m\u001b[0;34m\"has_index_names\"\u001b[0m\u001b[0;34m]\u001b[0m\u001b[0;34m\u001b[0m\u001b[0;34m\u001b[0m\u001b[0m\n\u001b[1;32m    818\u001b[0m \u001b[0;34m\u001b[0m\u001b[0m\n\u001b[0;32m--> 819\u001b[0;31m         \u001b[0mself\u001b[0m\u001b[0;34m.\u001b[0m\u001b[0m_engine\u001b[0m \u001b[0;34m=\u001b[0m \u001b[0mself\u001b[0m\u001b[0;34m.\u001b[0m\u001b[0m_make_engine\u001b[0m\u001b[0;34m(\u001b[0m\u001b[0mself\u001b[0m\u001b[0;34m.\u001b[0m\u001b[0mengine\u001b[0m\u001b[0;34m)\u001b[0m\u001b[0;34m\u001b[0m\u001b[0;34m\u001b[0m\u001b[0m\n\u001b[0m\u001b[1;32m    820\u001b[0m \u001b[0;34m\u001b[0m\u001b[0m\n\u001b[1;32m    821\u001b[0m     \u001b[0;32mdef\u001b[0m \u001b[0mclose\u001b[0m\u001b[0;34m(\u001b[0m\u001b[0mself\u001b[0m\u001b[0;34m)\u001b[0m\u001b[0;34m:\u001b[0m\u001b[0;34m\u001b[0m\u001b[0;34m\u001b[0m\u001b[0m\n",
      "\u001b[0;32m~/opt/miniconda3/envs/analysis_env/lib/python3.9/site-packages/pandas/io/parsers.py\u001b[0m in \u001b[0;36m_make_engine\u001b[0;34m(self, engine)\u001b[0m\n\u001b[1;32m   1048\u001b[0m             )\n\u001b[1;32m   1049\u001b[0m         \u001b[0;31m# error: Too many arguments for \"ParserBase\"\u001b[0m\u001b[0;34m\u001b[0m\u001b[0;34m\u001b[0m\u001b[0;34m\u001b[0m\u001b[0m\n\u001b[0;32m-> 1050\u001b[0;31m         \u001b[0;32mreturn\u001b[0m \u001b[0mmapping\u001b[0m\u001b[0;34m[\u001b[0m\u001b[0mengine\u001b[0m\u001b[0;34m]\u001b[0m\u001b[0;34m(\u001b[0m\u001b[0mself\u001b[0m\u001b[0;34m.\u001b[0m\u001b[0mf\u001b[0m\u001b[0;34m,\u001b[0m \u001b[0;34m**\u001b[0m\u001b[0mself\u001b[0m\u001b[0;34m.\u001b[0m\u001b[0moptions\u001b[0m\u001b[0;34m)\u001b[0m  \u001b[0;31m# type: ignore[call-arg]\u001b[0m\u001b[0;34m\u001b[0m\u001b[0;34m\u001b[0m\u001b[0m\n\u001b[0m\u001b[1;32m   1051\u001b[0m \u001b[0;34m\u001b[0m\u001b[0m\n\u001b[1;32m   1052\u001b[0m     \u001b[0;32mdef\u001b[0m \u001b[0m_failover_to_python\u001b[0m\u001b[0;34m(\u001b[0m\u001b[0mself\u001b[0m\u001b[0;34m)\u001b[0m\u001b[0;34m:\u001b[0m\u001b[0;34m\u001b[0m\u001b[0;34m\u001b[0m\u001b[0m\n",
      "\u001b[0;32m~/opt/miniconda3/envs/analysis_env/lib/python3.9/site-packages/pandas/io/parsers.py\u001b[0m in \u001b[0;36m__init__\u001b[0;34m(self, src, **kwds)\u001b[0m\n\u001b[1;32m   1865\u001b[0m \u001b[0;34m\u001b[0m\u001b[0m\n\u001b[1;32m   1866\u001b[0m         \u001b[0;31m# open handles\u001b[0m\u001b[0;34m\u001b[0m\u001b[0;34m\u001b[0m\u001b[0;34m\u001b[0m\u001b[0m\n\u001b[0;32m-> 1867\u001b[0;31m         \u001b[0mself\u001b[0m\u001b[0;34m.\u001b[0m\u001b[0m_open_handles\u001b[0m\u001b[0;34m(\u001b[0m\u001b[0msrc\u001b[0m\u001b[0;34m,\u001b[0m \u001b[0mkwds\u001b[0m\u001b[0;34m)\u001b[0m\u001b[0;34m\u001b[0m\u001b[0;34m\u001b[0m\u001b[0m\n\u001b[0m\u001b[1;32m   1868\u001b[0m         \u001b[0;32massert\u001b[0m \u001b[0mself\u001b[0m\u001b[0;34m.\u001b[0m\u001b[0mhandles\u001b[0m \u001b[0;32mis\u001b[0m \u001b[0;32mnot\u001b[0m \u001b[0;32mNone\u001b[0m\u001b[0;34m\u001b[0m\u001b[0;34m\u001b[0m\u001b[0m\n\u001b[1;32m   1869\u001b[0m         \u001b[0;32mfor\u001b[0m \u001b[0mkey\u001b[0m \u001b[0;32min\u001b[0m \u001b[0;34m(\u001b[0m\u001b[0;34m\"storage_options\"\u001b[0m\u001b[0;34m,\u001b[0m \u001b[0;34m\"encoding\"\u001b[0m\u001b[0;34m,\u001b[0m \u001b[0;34m\"memory_map\"\u001b[0m\u001b[0;34m,\u001b[0m \u001b[0;34m\"compression\"\u001b[0m\u001b[0;34m)\u001b[0m\u001b[0;34m:\u001b[0m\u001b[0;34m\u001b[0m\u001b[0;34m\u001b[0m\u001b[0m\n",
      "\u001b[0;32m~/opt/miniconda3/envs/analysis_env/lib/python3.9/site-packages/pandas/io/parsers.py\u001b[0m in \u001b[0;36m_open_handles\u001b[0;34m(self, src, kwds)\u001b[0m\n\u001b[1;32m   1360\u001b[0m         \u001b[0mLet\u001b[0m \u001b[0mthe\u001b[0m \u001b[0mreaders\u001b[0m \u001b[0mopen\u001b[0m \u001b[0mIOHanldes\u001b[0m \u001b[0mafter\u001b[0m \u001b[0mthey\u001b[0m \u001b[0mare\u001b[0m \u001b[0mdone\u001b[0m \u001b[0;32mwith\u001b[0m \u001b[0mtheir\u001b[0m \u001b[0mpotential\u001b[0m \u001b[0mraises\u001b[0m\u001b[0;34m.\u001b[0m\u001b[0;34m\u001b[0m\u001b[0;34m\u001b[0m\u001b[0m\n\u001b[1;32m   1361\u001b[0m         \"\"\"\n\u001b[0;32m-> 1362\u001b[0;31m         self.handles = get_handle(\n\u001b[0m\u001b[1;32m   1363\u001b[0m             \u001b[0msrc\u001b[0m\u001b[0;34m,\u001b[0m\u001b[0;34m\u001b[0m\u001b[0;34m\u001b[0m\u001b[0m\n\u001b[1;32m   1364\u001b[0m             \u001b[0;34m\"r\"\u001b[0m\u001b[0;34m,\u001b[0m\u001b[0;34m\u001b[0m\u001b[0;34m\u001b[0m\u001b[0m\n",
      "\u001b[0;32m~/opt/miniconda3/envs/analysis_env/lib/python3.9/site-packages/pandas/io/common.py\u001b[0m in \u001b[0;36mget_handle\u001b[0;34m(path_or_buf, mode, encoding, compression, memory_map, is_text, errors, storage_options)\u001b[0m\n\u001b[1;32m    640\u001b[0m                 \u001b[0merrors\u001b[0m \u001b[0;34m=\u001b[0m \u001b[0;34m\"replace\"\u001b[0m\u001b[0;34m\u001b[0m\u001b[0;34m\u001b[0m\u001b[0m\n\u001b[1;32m    641\u001b[0m             \u001b[0;31m# Encoding\u001b[0m\u001b[0;34m\u001b[0m\u001b[0;34m\u001b[0m\u001b[0;34m\u001b[0m\u001b[0m\n\u001b[0;32m--> 642\u001b[0;31m             handle = open(\n\u001b[0m\u001b[1;32m    643\u001b[0m                 \u001b[0mhandle\u001b[0m\u001b[0;34m,\u001b[0m\u001b[0;34m\u001b[0m\u001b[0;34m\u001b[0m\u001b[0m\n\u001b[1;32m    644\u001b[0m                 \u001b[0mioargs\u001b[0m\u001b[0;34m.\u001b[0m\u001b[0mmode\u001b[0m\u001b[0;34m,\u001b[0m\u001b[0;34m\u001b[0m\u001b[0;34m\u001b[0m\u001b[0m\n",
      "\u001b[0;31mFileNotFoundError\u001b[0m: [Errno 2] No such file or directory: '../FixedStation/flux/2021_04/raw/rTOA5_7049_Flux_CSFormat_23.dat'"
     ]
    }
   ],
   "source": [
    "frames = []\n",
    "prev_frames = []\n",
    "next_frames = []\n",
    "\n",
    "for f in CS_list:\n",
    "    print(f'Started working on {f}')\n",
    "    frame = pd.read_csv(path + f'r{f}', header=1, skiprows=(2,3))\n",
    "\n",
    "    frame.TIMESTAMP = pd.to_datetime(frame.TIMESTAMP, infer_datetime_format=True)\n",
    "\n",
    "    frame.set_index(frame.TIMESTAMP, inplace=True)\n",
    "    \n",
    "    frame.sort_index(inplace=True)\n",
    "    \n",
    "    frames.append(frame)\n",
    "    \n",
    "if os.path.exists(f'../FixedStation/flux/{yr}_{prev_mnth:02d}/'):\n",
    "    for f in prev_CS_list:\n",
    "        print(f'Started working on {f}')\n",
    "        prev_frame = pd.read_csv(prev_path + f'{f}', header=0, skiprows=(1,2))\n",
    "\n",
    "        prev_frame['Timestamp'] = pd.to_datetime(prev_frame.TIMESTAMP_START, format='%Y%m%d%H%M')\n",
    "\n",
    "        prev_frame.set_index(prev_frame.Timestamp, inplace=True)\n",
    "\n",
    "        prev_frame.sort_index(inplace=True)\n",
    "\n",
    "        prev_frames.append(prev_frame)\n",
    "\n",
    "frames.extend(prev_frames)\n",
    "\n",
    "if os.path.exists(f'../FixedStation/flux/{yr}_{next_mnth:02d}/'):\n",
    "    for f in next_CS_list:\n",
    "        print(f'Started working on {f}')\n",
    "        next_frame = pd.read_csv(next_path + f'{f}', header=0, skiprows=(1,2))\n",
    "\n",
    "        next_frame['Timestamp'] = pd.to_datetime(next_frame.TIMESTAMP_START, format='%Y%m%d%H%M')\n",
    "\n",
    "        next_frame.set_index(next_frame.Timestamp, inplace=True)\n",
    "\n",
    "        next_frame.sort_index(inplace=True)\n",
    "\n",
    "        next_frames.append(next_frame)\n",
    "        \n",
    "frames.extend(next_frames)\n",
    "\n",
    "CS_df = pd.concat(frames)\n",
    "\n",
    "CS_df.sort_index(inplace=True)\n",
    "\n",
    "sub_df = CS_df[CS_df.index.month==int(mnth)]\n",
    "sub_df = sub_df[~sub_df.index.duplicated()]\n",
    "reindxd_df = sub_df.reindex(index=ind)\n",
    "reindxd_df.index.name='Timestamp'\n",
    "\n",
    "del(reindxd_df['TIMESTAMP'])\n",
    "\n",
    "out_path = f'../FixedStation/flux/{yr}_{mnth:02d}/master/'\n",
    "reindxd_df.to_csv(out_path + f'SJ_FS_FLUX_CS_{yr}{mnth:02d}.txt')"
   ]
  },
  {
   "cell_type": "code",
   "execution_count": null,
   "id": "capable-botswana",
   "metadata": {},
   "outputs": [],
   "source": [
    "frames = []\n",
    "prev_frames = []\n",
    "next_frames = []\n",
    "\n",
    "for f in FN_list:\n",
    "    print(f'Started working on {f}')\n",
    "    frame = pd.read_csv(path + f'raw/{f}', header=1, skiprows=(2,3))\n",
    "\n",
    "    frame.TIMESTAMP = pd.to_datetime(frame.TIMESTAMP, infer_datetime_format=True)\n",
    "\n",
    "    frame.set_index(frame.TIMESTAMP, inplace=True)\n",
    "    \n",
    "    frame.sort_index(inplace=True)\n",
    "    \n",
    "    frames.append(frame)\n",
    "    \n",
    "if os.path.exists(f'../FixedStation/flux/{yr}_{prev_mnth:02d}/'):\n",
    "    for f in prev_FN_list:\n",
    "        print(f'Started working on {f}')\n",
    "        prev_frame = pd.read_csv(prev_path + f'{f}', header=0, skiprows=(1,2))\n",
    "\n",
    "        prev_frame['Timestamp'] = pd.to_datetime(prev_frame.TIMESTAMP_START, format='%Y%m%d%H%M')\n",
    "\n",
    "        prev_frame.set_index(prev_frame.Timestamp, inplace=True)\n",
    "\n",
    "        prev_frame.sort_index(inplace=True)\n",
    "\n",
    "        prev_frames.append(prev_frame)\n",
    "\n",
    "frames.extend(prev_frames)\n",
    "\n",
    "if os.path.exists(f'../FixedStation/flux/{yr}_{next_mnth:02d}/'):\n",
    "    for f in next_FN_list:\n",
    "        print(f'Started working on {f}')\n",
    "        next_frame = pd.read_csv(next_path + f'{f}', header=0, skiprows=(1,2))\n",
    "\n",
    "        next_frame['Timestamp'] = pd.to_datetime(next_frame.TIMESTAMP_START, format='%Y%m%d%H%M')\n",
    "\n",
    "        next_frame.set_index(next_frame.Timestamp, inplace=True)\n",
    "\n",
    "        next_frame.sort_index(inplace=True)\n",
    "\n",
    "        next_frames.append(next_frame)\n",
    "        \n",
    "frames.extend(next_frames)\n",
    "\n",
    "FN_df = pd.concat(frames)\n",
    "\n",
    "FN_df.sort_index(inplace=True)\n",
    "\n",
    "sub_df = FN_df[FN_df.index.month==int(mnth)]\n",
    "sub_df = sub_df[~sub_df.index.duplicated()]\n",
    "reindxd_df = sub_df.reindex(index=ind)\n",
    "reindxd_df.index.name='Timestamp'\n",
    "\n",
    "del(reindxd_df['TIMESTAMP'])\n",
    "\n",
    "out_path = f'../FixedStation/flux/{yr}_{mnth:02d}/master/'\n",
    "reindxd_df.to_csv(out_path + f'SJ_FS_FLUX_FN_{yr}{mnth:02d}.txt')"
   ]
  },
  {
   "cell_type": "code",
   "execution_count": null,
   "id": "twenty-draft",
   "metadata": {},
   "outputs": [],
   "source": [
    "print('Done ;-)')"
   ]
  }
 ],
 "metadata": {
  "kernelspec": {
   "display_name": "Python 3",
   "language": "python",
   "name": "python3"
  },
  "language_info": {
   "codemirror_mode": {
    "name": "ipython",
    "version": 3
   },
   "file_extension": ".py",
   "mimetype": "text/x-python",
   "name": "python",
   "nbconvert_exporter": "python",
   "pygments_lexer": "ipython3",
   "version": "3.8.8"
  }
 },
 "nbformat": 4,
 "nbformat_minor": 5
}
