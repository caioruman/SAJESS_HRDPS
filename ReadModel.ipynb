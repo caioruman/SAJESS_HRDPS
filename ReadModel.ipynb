{
 "cells": [
  {
   "cell_type": "code",
   "execution_count": 4,
   "id": "different-showcase",
   "metadata": {},
   "outputs": [],
   "source": [
    "# Read data from the model and generate a time series\n",
    "import xarray as xr\n",
    "import numpy as np\n",
    "import pandas as pd\n",
    "import matplotlib.pyplot as plt\n",
    "import matplotlib.colors as colors\n",
    "from datetime import datetime, timedelta\n",
    "import os                                  # Used to convert png to other format\n",
    "import rpnpy.librmn.all as rmn             # Module to read RPN files\n",
    "from rpnpy.rpndate import RPNDate, RPNDateRange\n",
    "from datetime import datetime, timedelta\n",
    "import pickle"
   ]
  },
  {
   "cell_type": "code",
   "execution_count": 19,
   "id": "phantom-system",
   "metadata": {},
   "outputs": [],
   "source": [
    "'''\n",
    "List of Variables:\n",
    "## 2D ##\n",
    "SN   : accum. of snow precip.  |  Snow amount in liquid water equivalent of falling snow. [m]\n",
    "SN1  : accum. ice crystals (M-Y)  |  Accumulated ice crystals (Milbrandt-Yau) [m]\n",
    "SN2  : accum. snow (M-Y)  |  Accumulated snow (Milbrandt-Yau) [m]\n",
    "SN3  : accum. graupel (M-Y)  |  Accumulated graupel (Milbrandt-Yau) [m]\n",
    "RN   : accum. of liquid precip.  |  Liquid precipitation amount [m]\n",
    "RN1  : accum. liquid drizzle (M-Y)  |  Accumulated liquid drizzle (Milbrandt-Yau) [m]\n",
    "RN2  : accum. liquid rain (M-Y)  |  Accumulated liquid rain (Milbrandt-Yau) [m]\n",
    "PR   : accum. of total precip.  |  Quantity of precipitation [m]\n",
    "\n",
    "PX: Hydrostatic Pressure\n",
    "MPNC:\n",
    "MPNR:\n",
    "HU: Humidite specifique\n",
    "MPQC:\n",
    "MPQR:\n",
    "QT1:\n",
    "GZ: Geopotential Height\n",
    "TT: Air Temperature\n",
    "HR: Relative Humidity\n",
    "WW: Vertical Motion\n",
    "UU: Wind U\n",
    "VV: Wind V\n",
    "QR: Relative Vorticity\n",
    "ZZ:\n",
    "QTI1:\n",
    "QMI1:\n",
    "NTI1:\n",
    "BMI1:\n",
    "PN: Sea level pressure\n",
    "\n",
    "## 3D ##\n",
    "TD:\n",
    "TT: Air Temperature\n",
    "HU: Humidite specifique\n",
    "WW: Vertical Motion\n",
    "UU: Wind U\n",
    "VV: Wind V\n",
    "GZ: Geopotential Height\n",
    "QQ: Absolute Vorticity\n",
    "P0: Surface Pressure\n",
    "ES: Dew Point Depression\n",
    "\n",
    "AD: Incoming LW (Acc FI) \n",
    "FI: Incoming LW \n",
    "N4: Dowward SW (Acc FB) \n",
    "FB: Downward SW \n",
    "FC: Sensible heat flux \n",
    "NR: Net Radiation on ground \n",
    "AL: Visible surface albedo \n",
    "'''\n",
    "# other ip1 value for FC: 60268832, 59868832\n",
    "typ = 'pres'\n",
    "typ = 'model'\n",
    "var_list = [\"PN\",\"UU\",\"VV\",\"TT\",\"HR\",\"HU\",\"SN\",\"RN\",\"PR\",\"AD\",\"FI\",\"N4\",\"FB\",\"FC\",\"NR\",\"AL\",\"TD\",\"RT\"]\n",
    "var_list_eta = [\"FV\",\"FC\",\"FI\",\"FL\",\"AL\",\"FB\",\"SI\"]\n",
    "        #  PN   UU      VV       TT      HR       HU      SN RN PR AD FI N4 FB FC      NR  AL  TD\n",
    "var_ip1 = [0,75597472,75597472,76696048,76696048,76696048,0, 0, 0, 0, 0, 0, 0, 60268832,0, 60268832,76696048,0]\n",
    "var_ip1_eta = [60268832,60268832,0,0,60268832,0,0]\n",
    "y = 2021\n",
    "m = 4\n",
    "d = 22\n",
    "hour=0\n",
    "h = [0,6,12,18]  \n",
    "h = [0]\n",
    "\n",
    "f_hrdps = '/upslope/winger/WCPS/HRDPS_SAJESS'\n",
    "f_hrdps = '/chinook/cruman/Data/HRDPS_SAJESS'\n",
    "\n",
    "lat = 47.416899\n",
    "lon = -68.325813\n",
    "#lon = 291.674187"
   ]
  },
  {
   "cell_type": "code",
   "execution_count": 21,
   "id": "alert-nancy",
   "metadata": {},
   "outputs": [],
   "source": [
    "ii = None\n",
    "jj = None\n",
    "main_data = []\n",
    "for hour in h:\n",
    "    aux_data = []    \n",
    "    aux_data_eta = []\n",
    "    #aux_time = []\n",
    "    dt = datetime(y, m, d, hour)\n",
    "\n",
    "    for i, prev in enumerate(range(-30,96*30,30)):\n",
    "        if i == 0:\n",
    "            continue\n",
    "        elif i == 1:\n",
    "            aux = dt + timedelta(minutes=0)\n",
    "        else:\n",
    "            aux = dt + timedelta(minutes=prev)\n",
    "\n",
    "        filename = f\"{f_hrdps}/{typ}/{y}{m:02d}{d:02d}{hour:02d}_{int(i/2):03d}_zoom\"        \n",
    "\n",
    "        #print(prev, i, filename)\n",
    "        \n",
    "        data, ii, jj = readData(filename, var_list, var_ip1, RPNDate(aux), lat, lon, ii, jj) \n",
    "        \n",
    "        filename = f\"{f_hrdps}/eta/{y}{m:02d}{d:02d}{hour:02d}_{int(i/2):03d}_zoom\"        \n",
    "        \n",
    "        data_eta, ii, jj = readData(filename, var_list_eta, var_ip1_eta, RPNDate(aux), lat, lon, ii, jj)\n",
    "        \n",
    "        aux_data.append(data)\n",
    "        aux_data_eta.append(data_eta)\n",
    "        #aux_time.append(aux)\n",
    "        #aux = readData(filename, var, ip1, datev, lat, lon, i=None, j=None)\n",
    "    #main_data.append((hour,aux_time,aux_data))\n",
    "    df = pd.DataFrame.from_records(aux_data, columns=[\"Timestamp\",\"PN\",\"UU\",\"VV\",\"TT\",\"HR\",\"HU\",\"SN\",\"RN\",\"PR\",\"AD\",\"FI\",\"N4\",\"FB\",\"FC\",\"NR\",\"AL\",\"TD\",\"RT\"])\n",
    "    df_eta = pd.DataFrame.from_records(aux_data_eta, columns=[\"Timestamp\",\"FV\",\"FC\",\"FI\",\"FL\",\"AL\",\"FB\",\"SI\"])\n",
    "    pickle.dump( df, open( f\"data_df_{y}{m:02d}{d:02d}{hour:02d}.p\", \"wb\" ) )\n",
    "    pickle.dump( df_eta, open( f\"data_eta_df_{y}{m:02d}{d:02d}{hour:02d}.p\", \"wb\" ) )\n",
    "    #sys.exit()"
   ]
  },
  {
   "cell_type": "code",
   "execution_count": 6,
   "id": "numerous-latest",
   "metadata": {},
   "outputs": [],
   "source": [
    "def readData(filename, var, ip1, datev, lat, lon, i=None, j=None):\n",
    "    # Read one record\n",
    "    # ---------------\n",
    "    fid = rmn.fstopenall(filename,rmn.FST_RO)   # Open the file    \n",
    "    data = []\n",
    "    data.append(datev.toDateTime())\n",
    "    for v, ip in zip(var, ip1):\n",
    "        #print(v, ip, datev)\n",
    "        #if v==\"PN\" and datev.toDateTime().minute == 30:\n",
    "        #data.append(np.nan)\n",
    "        #else:\n",
    "        rec = rmn.fstlir(fid,nomvar=v,ip1=ip,datev=datev.datev)        # Read the full record of variable 'varname'\n",
    "        if rec is None:\n",
    "            data.append(np.nan)\n",
    "        else:\n",
    "            field = rec['d']#[i1:i2,j1:j2]                            # Assign 'field' to the data of 'varname'        \n",
    "            #print(field.shape)\n",
    "            \n",
    "            if i is None:\n",
    "                mygrid = rmn.readGrid(fid,rec)              # Get the grid information for the (LAM) Grid -- Reads the tictac's\n",
    "                latlondict = rmn.gdll(mygrid)               # Create 2-D lat and lon fields from the grid information\n",
    "\n",
    "                lat2d = latlondict['lat']#[i1:i2,j1:j2]                     # Assign 'lat' to 2-D latitude field\n",
    "                lon2d = latlondict['lon']#[i1:i2,j1:j2]                    # Assign 'lon' to 2-D longitude field\n",
    "                # Get it from the lat,lon from the model\n",
    "                i, j = geo_idx([lat,lon], np.array([lat2d,lon2d]))\n",
    "            # Get grid rotation for projection of 2-D field for mapping -  if needed\n",
    "            #tics = rmn.fstlir(fid,nomvar='^^', ip1=rec['ig1'],ip2=rec['ig2'],ip3=rec['ig3']) # Read corresponding tictac's\n",
    "\n",
    "            data.append(field[i,j])\n",
    "    #sys.exit()\n",
    "    # Close the RPN file\n",
    "    rmn.fstcloseall(fid) \n",
    "    \n",
    "    return data, i, j"
   ]
  },
  {
   "cell_type": "code",
   "execution_count": 7,
   "id": "manual-subdivision",
   "metadata": {},
   "outputs": [],
   "source": [
    "def geo_idx(dd, dd_array, type=\"lat\"):\n",
    "  '''\n",
    "    search for nearest decimal degree in an array of decimal degrees and return the index.\n",
    "    np.argmin returns the indices of minium value along an axis.\n",
    "    so subtract dd from all values in dd_array, take absolute value and find index of minimum.\n",
    "    \n",
    "    Differentiate between 2-D and 1-D lat/lon arrays.\n",
    "    for 2-D arrays, should receive values in this format: dd=[lat, lon], dd_array=[lats2d,lons2d]\n",
    "  '''\n",
    "  if type == \"lon\" and len(dd_array.shape) == 1:\n",
    "    dd_array = np.where(dd_array <= 180, dd_array, dd_array - 360)\n",
    "\n",
    "  if (len(dd_array.shape) < 2):\n",
    "    geo_idx = (np.abs(dd_array - dd)).argmin()\n",
    "  else:\n",
    "    if (dd_array[1] < 0).any():\n",
    "      dd_array[1] = np.where(dd_array[1] <= 180, dd_array[1], dd_array[1] - 360)\n",
    "\n",
    "    a = abs( dd_array[0]-dd[0] ) + abs(  np.where(dd_array[1] <= 180, dd_array[1], dd_array[1] - 360) - dd[1] )\n",
    "    i,j = np.unravel_index(a.argmin(), a.shape)\n",
    "    geo_idx = [i,j]\n",
    "\n",
    "  return geo_idx"
   ]
  },
  {
   "cell_type": "code",
   "execution_count": null,
   "id": "downtown-jimmy",
   "metadata": {},
   "outputs": [],
   "source": []
  },
  {
   "cell_type": "code",
   "execution_count": null,
   "id": "otherwise-straight",
   "metadata": {},
   "outputs": [],
   "source": [
    "'''\n",
    "1) Get the date of the soundings file\n",
    "2) Open the model file. Get the levels\n",
    "3) Get the vars (TT, GZ, HU, HR, UU, VV, Pressure). \n",
    "4) Sort the levels\n",
    "5) For each lat/lon/height in the soundings file, get the relative point in the model\n",
    "6) Plot the skew-P graph\n",
    "'''\n",
    "# 1\n",
    "\n",
    "\n",
    "# 2\n",
    "a, b, c = readVerticalRecords(\"TT\", RPNDate(dt), filename)"
   ]
  },
  {
   "cell_type": "code",
   "execution_count": 132,
   "id": "native-merchandise",
   "metadata": {},
   "outputs": [],
   "source": [
    "def readVerticalRecords(varname, datev, filename):\n",
    "    fid = rmn.fstopenall(filename,rmn.FST_RO)\n",
    "    \n",
    "    record_list = []\n",
    "    record_date_list = []\n",
    "    #record_ip = []\n",
    "    record_ip1 = []\n",
    "    record_ip1_type = []\n",
    "    \n",
    "    for k in rmn.fstinl(fid, nomvar=varname, datev=datev.datev):\n",
    "        #print(rmn.fstluk(k))\n",
    "        record_list.append(rmn.fstluk(k)['d'])\n",
    "        record_date_list.append(stamp2datetime(rmn.fstluk(k)['datev']))\n",
    "        ip1=rmn.fstluk(k)['ip1']\n",
    "        ip2=rmn.fstluk(k)['ip2']\n",
    "        ip3=rmn.fstluk(k)['ip3']\n",
    "        rp1, rp2, rp3 = rmn.DecodeIp(ip1, ip2, ip3)    \n",
    "        #record_ip.append([(rp1.v1, rmn.kindToString(rp1.kind)), (rp2.v1, rmn.kindToString(rp2.kind)), (rp3.v1, rmn.kindToString(rp3.kind))])\n",
    "        record_ip1.append(rp1.v1)\n",
    "        record_ip1_type.append(rmn.kindToString(rp1.kind))    \n",
    "        \n",
    "    #print(record_date_list)\n",
    "    \n",
    "    r_data = np.array(record_list)\n",
    "    r_date = np.array(record_date_list)\n",
    "    r_height = np.array(record_ip1)\n",
    "    \n",
    "    # Sort by height\n",
    "    idx = np.argsort(r_height)\n",
    "    r_data = r_data[idx]\n",
    "    r_date = r_date[idx]\n",
    "    r_height = r_height[idx]\n",
    "\n",
    "    return r_data[::-1], r_date[::-1], r_height[::-1]"
   ]
  },
  {
   "cell_type": "code",
   "execution_count": 45,
   "id": "secondary-document",
   "metadata": {},
   "outputs": [],
   "source": [
    "# Reading 3D file\n",
    "#import rpnpy.librmn.all as rmn             # Module to read RPN files\n",
    "from fstd2nc.mixins.dates import stamp2datetime\n",
    "\n",
    "f_hrdps = '/chinook/cruman/Data/HRDPS_SAJESS'\n",
    "y = 2021\n",
    "m = 4\n",
    "d = 19\n",
    "hour=0\n",
    "h = [0,6,12,18] \n",
    "typ = 'model'\n",
    "varname=\"TT\"\n",
    "filename = f\"{f_hrdps}/{typ}/{y}{m:02d}{d:02d}{hour:02d}_001_zoom\" \n",
    "\n",
    "fid = rmn.fstopenall(filename,rmn.FST_RO)   # Open the file\n",
    "\n",
    "# Création de listes vides\n",
    "\n",
    "record_list = []\n",
    "record_date_list = []\n",
    "record_ip = []\n",
    "record_ip1 = []\n",
    "record_ip1_type = []\n",
    "\n",
    "# On fait la boucle sur tous les enregistrements de varname\n",
    "# fstinf\n",
    "for k in rmn.fstinl(fid, nomvar=varname, datev=datev.datev):\n",
    "    #print(rmn.fstluk(k))\n",
    "    record_list.append(rmn.fstluk(k)['d'])\n",
    "    record_date_list.append(stamp2datetime(rmn.fstluk(k)['datev']))\n",
    "    ip1=rmn.fstluk(k)['ip1']\n",
    "    ip2=rmn.fstluk(k)['ip2']\n",
    "    ip3=rmn.fstluk(k)['ip3']\n",
    "    rp1, rp2, rp3 = rmn.DecodeIp(ip1, ip2, ip3)    \n",
    "    record_ip.append([(rp1.v1, rmn.kindToString(rp1.kind)), (rp2.v1, rmn.kindToString(rp2.kind)), (rp3.v1, rmn.kindToString(rp3.kind))])\n",
    "    record_ip1.append(rp1.v1)\n",
    "    record_ip1_type.append(rmn.kindToString(rp1.kind))\n",
    " \n",
    "# On ferme le fichier rpn\n",
    "rmn.fstcloseall(fid)"
   ]
  },
  {
   "cell_type": "code",
   "execution_count": 126,
   "id": "silver-ireland",
   "metadata": {},
   "outputs": [],
   "source": []
  },
  {
   "cell_type": "code",
   "execution_count": 128,
   "id": "improving-lodging",
   "metadata": {},
   "outputs": [
    {
     "name": "stdout",
     "output_type": "stream",
     "text": [
      "2021-04-19 00:30:00\n"
     ]
    }
   ],
   "source": [
    "dt = datetime(y, m, d, hour) + timedelta(minutes=30)\n",
    "print(dt)\n",
    "a, b, c = readVerticalRecords(\"TT\", RPNDate(dt), filename)"
   ]
  },
  {
   "cell_type": "code",
   "execution_count": 131,
   "id": "swedish-warehouse",
   "metadata": {},
   "outputs": [
    {
     "data": {
      "text/plain": [
       "(63, 601, 501)"
      ]
     },
     "execution_count": 131,
     "metadata": {},
     "output_type": "execute_result"
    }
   ],
   "source": [
    "a.shape"
   ]
  },
  {
   "cell_type": "code",
   "execution_count": 108,
   "id": "classical-subscriber",
   "metadata": {},
   "outputs": [],
   "source": [
    "# idx works on np.array and not lists.\n",
    "r_data = np.array(record_list)\n",
    "r_date = np.array(record_date_list)\n",
    "r_height = np.array(record_ip1)\n",
    "\n",
    "# Sort by time. Skip this if the record has only the 00 time\n",
    "idx   = np.argsort(r_date)\n",
    "\n",
    "r_data = r_data[idx]\n",
    "r_date = r_date[idx]\n",
    "r_height = r_height[idx]\n",
    "\n",
    "# Split by time. \n",
    "r_data1, r_data2 = np.split(r_data, 2)\n",
    "r_date1, r_date2 = np.split(r_date, 2)\n",
    "r_height1, r_height2 = np.split(r_height, 2)\n",
    "\n",
    "# Sort by height\n",
    "idx   = np.argsort(r_height1)\n",
    "r_data1 = r_data1[idx]\n",
    "r_date1 = r_date1[idx]\n",
    "r_height1 = r_height1[idx]\n",
    "\n",
    "\n"
   ]
  },
  {
   "cell_type": "code",
   "execution_count": 109,
   "id": "integrated-master",
   "metadata": {},
   "outputs": [
    {
     "data": {
      "text/plain": [
       "array([0.00226405, 0.00410016, 0.00742534, 0.0134471 , 0.0227437 ,\n",
       "       0.0338256 , 0.0451936 , 0.0556271 , 0.0644377 , 0.0714344 ,\n",
       "       0.0771276 , 0.0825822 , 0.0883959 , 0.0946183 , 0.101277  ,\n",
       "       0.108407  , 0.116043  , 0.124213  , 0.13295799, 0.142318  ,\n",
       "       0.152337  , 0.16306099, 0.174539  , 0.186827  , 0.19997901,\n",
       "       0.21404199, 0.22904401, 0.245002  , 0.26192001, 0.279814  ,\n",
       "       0.29867801, 0.31848899, 0.33922401, 0.360861  , 0.383349  ,\n",
       "       0.40663299, 0.43065301, 0.45533401, 0.48060501, 0.50638801,\n",
       "       0.532601  , 0.55916101, 0.58596599, 0.61293602, 0.63997698,\n",
       "       0.66699898, 0.69391501, 0.72063202, 0.74708402, 0.77318698,\n",
       "       0.798859  , 0.823982  , 0.84829098, 0.87148702, 0.89333802,\n",
       "       0.913683  , 0.93241203, 0.94946498, 0.96484298, 0.97859901,\n",
       "       0.99003798, 0.99749702, 1.5       ])"
      ]
     },
     "execution_count": 109,
     "metadata": {},
     "output_type": "execute_result"
    }
   ],
   "source": [
    "'''\n",
    "1) Get the date of the soundings file\n",
    "2) Open the model file. Get the levels\n",
    "3) Get the vars (TT, GZ, HU, HR, UU, VV, Pressure). \n",
    "4) Sort the levels\n",
    "5) For each lat/lon/height in the soundings file, get the relative point in the model\n",
    "6) Plot the skew-P graph\n",
    "'''"
   ]
  },
  {
   "cell_type": "code",
   "execution_count": 104,
   "id": "occupied-realtor",
   "metadata": {},
   "outputs": [
    {
     "data": {
      "text/plain": [
       "array([0.96484298, 0.383349  , 0.00410016, 0.00742534, 0.50638801,\n",
       "       0.532601  , 0.823982  , 0.84829098, 0.0556271 , 0.0644377 ,\n",
       "       0.21404199, 0.186827  , 0.19997901, 0.00226405, 0.279814  ,\n",
       "       0.29867801, 0.55916101, 0.58596599, 0.360861  , 0.108407  ,\n",
       "       0.0227437 , 0.74708402, 0.245002  , 0.26192001, 0.0946183 ,\n",
       "       0.101277  , 0.61293602, 0.63997698, 0.913683  , 0.93241203,\n",
       "       0.0825822 , 0.0883959 , 0.77318698, 0.798859  , 0.97859901,\n",
       "       0.99003798, 0.124213  , 0.13295799, 0.72063202, 0.0134471 ,\n",
       "       0.116043  , 0.22904401, 0.0338256 , 0.31848899, 0.87148702,\n",
       "       0.0714344 , 0.45533401, 0.0771276 , 0.152337  , 0.142318  ,\n",
       "       0.48060501, 0.89333802, 0.16306099, 0.33922401, 1.5       ,\n",
       "       0.94946498, 0.174539  , 0.99749702, 0.66699898, 0.69391501,\n",
       "       0.43065301, 0.40663299, 0.0451936 ])"
      ]
     },
     "execution_count": 104,
     "metadata": {},
     "output_type": "execute_result"
    }
   ],
   "source": [
    "a"
   ]
  },
  {
   "cell_type": "code",
   "execution_count": 69,
   "id": "adjusted-newspaper",
   "metadata": {},
   "outputs": [
    {
     "data": {
      "text/plain": [
       "[]"
      ]
     },
     "execution_count": 69,
     "metadata": {},
     "output_type": "execute_result"
    }
   ],
   "source": [
    "list(zipped)"
   ]
  },
  {
   "cell_type": "code",
   "execution_count": 66,
   "id": "dress-pointer",
   "metadata": {},
   "outputs": [
    {
     "data": {
      "text/plain": [
       "<zip at 0x148bf1503c80>"
      ]
     },
     "execution_count": 66,
     "metadata": {},
     "output_type": "execute_result"
    }
   ],
   "source": []
  },
  {
   "cell_type": "code",
   "execution_count": 44,
   "id": "certain-roberts",
   "metadata": {},
   "outputs": [
    {
     "data": {
      "text/plain": [
       "([(0.1745389997959137, 'hy'), (0.5, ' H'), (0.0, ' H')],\n",
       " datetime.datetime(2021, 4, 19, 0, 30))"
      ]
     },
     "execution_count": 44,
     "metadata": {},
     "output_type": "execute_result"
    }
   ],
   "source": [
    "record_ip[4], record_date_list[4]"
   ]
  }
 ],
 "metadata": {
  "kernelspec": {
   "display_name": "Python 3",
   "language": "python",
   "name": "python3"
  },
  "language_info": {
   "codemirror_mode": {
    "name": "ipython",
    "version": 3
   },
   "file_extension": ".py",
   "mimetype": "text/x-python",
   "name": "python",
   "nbconvert_exporter": "python",
   "pygments_lexer": "ipython3",
   "version": "3.8.6"
  }
 },
 "nbformat": 4,
 "nbformat_minor": 5
}
