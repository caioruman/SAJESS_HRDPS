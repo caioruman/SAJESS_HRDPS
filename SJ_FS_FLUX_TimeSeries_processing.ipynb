{
 "cells": [
  {
   "cell_type": "markdown",
   "id": "active-lucas",
   "metadata": {},
   "source": [
    "# SJ_TS_FLUX_TimeSeries_processing.ipynb\n",
    "\n",
    "```\n",
    "H Thompson\n",
    "UQAM\n",
    "Oct 2021\n",
    "```"
   ]
  },
  {
   "cell_type": "markdown",
   "id": "innovative-roots",
   "metadata": {},
   "source": [
    "## Imports"
   ]
  },
  {
   "cell_type": "code",
   "execution_count": 11,
   "id": "atmospheric-removal",
   "metadata": {},
   "outputs": [],
   "source": [
    "import pandas as pd\n",
    "import numpy as np\n",
    "import matplotlib.pyplot as plt\n",
    "import datetime as dt\n",
    "import os\n",
    "import fnmatch as fn"
   ]
  },
  {
   "cell_type": "markdown",
   "id": "functioning-magic",
   "metadata": {},
   "source": [
    "## Constants"
   ]
  },
  {
   "cell_type": "code",
   "execution_count": 12,
   "id": "immune-audience",
   "metadata": {},
   "outputs": [],
   "source": [
    "yr = 2021\n",
    "mnth = 4\n",
    "days = pd.Period(f'{yr}-{mnth:02d}-01').days_in_month"
   ]
  },
  {
   "cell_type": "code",
   "execution_count": 13,
   "id": "modified-quebec",
   "metadata": {},
   "outputs": [],
   "source": [
    "path = f'../FixedStation/flux_tripod/{yr}_{mnth:02d}/'"
   ]
  },
  {
   "cell_type": "code",
   "execution_count": 14,
   "id": "seven-october",
   "metadata": {},
   "outputs": [],
   "source": [
    "TS_list = [f for f in os.listdir(path + 'raw/') if fn.fnmatch(f, 'TOA5_*_Time_Series_*.dat')]"
   ]
  },
  {
   "cell_type": "code",
   "execution_count": 15,
   "id": "structured-agriculture",
   "metadata": {},
   "outputs": [
    {
     "name": "stdout",
     "output_type": "stream",
     "text": [
      "Started working on TOA5_7049_Time_Series_49.dat\n",
      "Started working on TOA5_7049_Time_Series_50.dat\n",
      "Started working on TOA5_7049_Time_Series_51.dat\n",
      "Started working on TOA5_7049_Time_Series_52.dat\n",
      "Started working on TOA5_7049_Time_Series_53.dat\n",
      "Started working on TOA5_7049_Time_Series_54.dat\n",
      "Started working on TOA5_7049_Time_Series_55.dat\n",
      "Started working on TOA5_7049_Time_Series_56.dat\n",
      "Started working on TOA5_7049_Time_Series_57.dat\n",
      "Started working on TOA5_7049_Time_Series_58.dat\n",
      "Started working on TOA5_7049_Time_Series_59.dat\n",
      "Started working on TOA5_7049_Time_Series_60.dat\n",
      "Started working on TOA5_7049_Time_Series_61.dat\n",
      "Started working on TOA5_7049_Time_Series_62.dat\n",
      "Started working on TOA5_7049_Time_Series_63.dat\n",
      "Started working on TOA5_7049_Time_Series_64.dat\n",
      "Started working on TOA5_7049_Time_Series_65.dat\n",
      "Started working on TOA5_7049_Time_Series_66.dat\n",
      "Started working on TOA5_7049_Time_Series_67.dat\n",
      "Started working on TOA5_7049_Time_Series_68.dat\n",
      "Started working on TOA5_7049_Time_Series_69.dat\n",
      "Started working on TOA5_7049_Time_Series_70.dat\n",
      "Started working on TOA5_7049_Time_Series_71.dat\n",
      "Started working on TOA5_7049_Time_Series_72.dat\n",
      "Started working on TOA5_7049_Time_Series_73.dat\n",
      "Started working on TOA5_7049_Time_Series_74.dat\n",
      "Started working on TOA5_7049_Time_Series_75.dat\n",
      "Started working on TOA5_7049_Time_Series_76.dat\n",
      "Started working on TOA5_7049_Time_Series_77.dat\n",
      "Started working on TOA5_7049_Time_Series_78.dat\n",
      "Started working on TOA5_7049_Time_Series_79.dat\n",
      "Started working on TOA5_7049_Time_Series_80.dat\n",
      "Started working on TOA5_7049_Time_Series_81.dat\n"
     ]
    }
   ],
   "source": [
    "frames = []\n",
    "\n",
    "for f in TS_list:\n",
    "    print(f'Started working on {f}')\n",
    "    frame = pd.read_csv(path + f'raw/{f}', header=1, skiprows=(2,3), low_memory=False)\n",
    "\n",
    "    frame.TIMESTAMP = pd.to_datetime(frame.TIMESTAMP, infer_datetime_format=True)\n",
    "\n",
    "    frame.set_index(frame.TIMESTAMP, inplace=True)\n",
    "    \n",
    "    frame.sort_index(inplace=True)\n",
    "\n",
    "    frame.sort_index(inplace=True)\n",
    "\n",
    "    frame = frame[~frame.index.duplicated()]\n",
    "    \n",
    "    yy = frame.index[0].year\n",
    "    mm = frame.index[0].month\n",
    "    dd = frame.index[0].day\n",
    "    \n",
    "    next_day = pd.to_datetime(f'{yy}-{mm}-{dd}')+dt.timedelta(days=1)\n",
    "    next_d = next_day.day\n",
    "    next_y = next_day.year\n",
    "    next_m = next_day.month\n",
    "    ind = pd.date_range(f'{yy}-{mm}-{dd} 00:00:00.10', f'{next_y}-{next_m}-{next_d} 00:00:00.00',freq='0.1S')\n",
    "    \n",
    "    reindxd_df = frame.reindex(index=ind)\n",
    "    reindxd_df.index.name='Timestamp'\n",
    "\n",
    "    del(reindxd_df['TIMESTAMP'])\n",
    "\n",
    "    dom = reindxd_df.index[0].day\n",
    "\n",
    "    reindxd_df.to_csv(path + f'/master/SJ_FS_FLUX_TS_{yr}{mnth:02d}_{dom:02d}.txt')"
   ]
  },
  {
   "cell_type": "code",
   "execution_count": null,
   "id": "retired-cylinder",
   "metadata": {},
   "outputs": [],
   "source": []
  }
 ],
 "metadata": {
  "kernelspec": {
   "display_name": "Python 3",
   "language": "python",
   "name": "python3"
  },
  "language_info": {
   "codemirror_mode": {
    "name": "ipython",
    "version": 3
   },
   "file_extension": ".py",
   "mimetype": "text/x-python",
   "name": "python",
   "nbconvert_exporter": "python",
   "pygments_lexer": "ipython3",
   "version": "3.8.6"
  }
 },
 "nbformat": 4,
 "nbformat_minor": 5
}
