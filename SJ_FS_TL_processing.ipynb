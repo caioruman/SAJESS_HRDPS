{
 "cells": [
  {
   "cell_type": "markdown",
   "metadata": {},
   "source": [
    "# SJ_FS_TL_processing.ipynb"
   ]
  },
  {
   "cell_type": "markdown",
   "metadata": {},
   "source": [
    "#### Created  2021 by Amanda Ronnquist \n",
    "#### Modified Oct 2021 by H Thompson - Thanks Amanda!\n",
    "Will rename images using the date and time from the image metadata \n",
    "#### Caution: A copy of the image is NOT created. The original files will be renamed. \n",
    "**Copy** raw files into master directory and perform rename on copied files"
   ]
  },
  {
   "cell_type": "markdown",
   "metadata": {},
   "source": [
    "## Imports"
   ]
  },
  {
   "cell_type": "code",
   "execution_count": 29,
   "metadata": {},
   "outputs": [],
   "source": [
    "import numpy as np\n",
    "import pandas as pd\n",
    "import matplotlib.pyplot as plt\n",
    "import os\n",
    "import sys\n",
    "from PIL import Image\n",
    "import piexif as pf\n",
    "from PIL.ExifTags import TAGS\n",
    "import time\n",
    "import fnmatch as fn"
   ]
  },
  {
   "cell_type": "markdown",
   "metadata": {},
   "source": [
    "## Functions"
   ]
  },
  {
   "cell_type": "code",
   "execution_count": 30,
   "metadata": {},
   "outputs": [],
   "source": [
    "# To retrieve metadata from image file \n",
    "def get_exif(fn):\n",
    "    ret = {}\n",
    "    i = Image.open(fn)\n",
    "    info = i._getexif()\n",
    "    for tag, value in info.items():\n",
    "        decoded = TAGS.get(tag, tag)\n",
    "        ret[decoded] = value\n",
    "    return ret"
   ]
  },
  {
   "cell_type": "markdown",
   "metadata": {},
   "source": [
    "## Constants"
   ]
  },
  {
   "cell_type": "code",
   "execution_count": 31,
   "metadata": {},
   "outputs": [],
   "source": [
    "yr = 2021\n",
    "mnth = 4"
   ]
  },
  {
   "cell_type": "markdown",
   "metadata": {},
   "source": [
    "## Files"
   ]
  },
  {
   "cell_type": "code",
   "execution_count": 32,
   "metadata": {},
   "outputs": [],
   "source": [
    "path = f'../FixedStation/timelapse/{yr}_{mnth:02d}/master/'\n",
    "\n",
    "TL_list = [f for f in os.listdir(path) if fn.fnmatch(f, 'WSCT*.JPG')]"
   ]
  },
  {
   "cell_type": "code",
   "execution_count": 33,
   "metadata": {},
   "outputs": [
    {
     "data": {
      "text/plain": [
       "720"
      ]
     },
     "execution_count": 33,
     "metadata": {},
     "output_type": "execute_result"
    }
   ],
   "source": [
    "len(TL_list)"
   ]
  },
  {
   "cell_type": "code",
   "execution_count": 34,
   "metadata": {
    "scrolled": false
   },
   "outputs": [
    {
     "name": "stdout",
     "output_type": "stream",
     "text": [
      "Renamed 720 images\n"
     ]
    }
   ],
   "source": [
    "i=0\n",
    "for f in TL_list:\n",
    "    \n",
    "    time = get_exif(path+f)['DateTimeOriginal']\n",
    "\n",
    "    # Formatting of the datetime \n",
    "    time = time.replace(':', '')\n",
    "    time = time.replace(' ', '_')\n",
    "\n",
    "    # Add the following line to remove the seconds from the datetime\n",
    "    time = time[:-2]\n",
    "\n",
    "    # Create new filename including timestamp\n",
    "    new_name = f'SJ_FS_TL_{time}.jpg'\n",
    "\n",
    "    # Use this ending if there is no chance of duplicated file names \n",
    "    os.rename(path+f, path+new_name)\n",
    "\n",
    "    # Use this ending to account for potential duplicates \n",
    "    #if os.path.exists(out_path + new_name):\n",
    "    #    print(new_name, 'file is already renamed'\n",
    "    #continue\n",
    "    #    while os.path.exists(new_name):\n",
    "    #        new_name = time+'(1)'+'_MT_MicroPhoto.jpg'\n",
    "    #    os.rename(file, new_name)\n",
    "    i=i+1\n",
    "    \n",
    "print(f'Renamed {i} images')"
   ]
  }
 ],
 "metadata": {
  "kernelspec": {
   "display_name": "Python 3",
   "language": "python",
   "name": "python3"
  },
  "language_info": {
   "codemirror_mode": {
    "name": "ipython",
    "version": 3
   },
   "file_extension": ".py",
   "mimetype": "text/x-python",
   "name": "python",
   "nbconvert_exporter": "python",
   "pygments_lexer": "ipython3",
   "version": "3.9.2"
  }
 },
 "nbformat": 4,
 "nbformat_minor": 4
}
