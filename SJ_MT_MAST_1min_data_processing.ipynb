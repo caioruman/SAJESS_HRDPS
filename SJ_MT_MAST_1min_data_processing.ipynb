{
 "cells": [
  {
   "cell_type": "markdown",
   "metadata": {
    "nbpresent": {
     "id": "dc9bd7a9-6255-4997-b9f0-96b346f91ea3"
    },
    "slideshow": {
     "slide_type": "skip"
    }
   },
   "source": [
    "# MT_MAST_1min_data_processing.ipynb\n",
    "\n",
    "```\n",
    "H Thompson\n",
    "GRAPH\n",
    "UQAM\n",
    "Oct 2021\n",
    "```"
   ]
  },
  {
   "cell_type": "markdown",
   "metadata": {
    "nbpresent": {
     "id": "64392e8a-2a03-428b-b22a-93afb9786c35"
    },
    "slideshow": {
     "slide_type": "skip"
    }
   },
   "source": [
    "# Imports"
   ]
  },
  {
   "cell_type": "code",
   "execution_count": 80,
   "metadata": {
    "nbpresent": {
     "id": "068e0f62-0cc2-4c59-9f31-cb40982e8568"
    },
    "slideshow": {
     "slide_type": "skip"
    }
   },
   "outputs": [],
   "source": [
    "import numpy as np\n",
    "import pandas as pd\n",
    "import matplotlib.pyplot as plt\n",
    "import os\n",
    "from calendar import monthrange\n",
    "\n",
    "%matplotlib inline\n",
    "plt.style.use('seaborn-ticks')"
   ]
  },
  {
   "cell_type": "markdown",
   "metadata": {
    "nbpresent": {
     "id": "24a61abf-9617-45b8-b9fa-51f1441cbdce"
    },
    "slideshow": {
     "slide_type": "skip"
    }
   },
   "source": [
    "# Files"
   ]
  },
  {
   "cell_type": "code",
   "execution_count": 81,
   "metadata": {},
   "outputs": [],
   "source": [
    "yr = 2021\n",
    "mnth = [\"April\",\"04\"]\n",
    "days = pd.Period(f'{yr}-{mnth[1]}-01').days_in_month\n",
    "ind = pd.date_range(f'{int(yr)}-{int(mnth[1])}-01 00:00:00',f'{int(yr)}-{int(mnth[1])}-{days} 23:59:00',freq='T')"
   ]
  },
  {
   "cell_type": "code",
   "execution_count": 82,
   "metadata": {},
   "outputs": [
    {
     "data": {
      "text/plain": [
       "DatetimeIndex(['2021-04-01 00:00:00', '2021-04-01 00:01:00',\n",
       "               '2021-04-01 00:02:00', '2021-04-01 00:03:00',\n",
       "               '2021-04-01 00:04:00', '2021-04-01 00:05:00',\n",
       "               '2021-04-01 00:06:00', '2021-04-01 00:07:00',\n",
       "               '2021-04-01 00:08:00', '2021-04-01 00:09:00',\n",
       "               ...\n",
       "               '2021-04-30 23:50:00', '2021-04-30 23:51:00',\n",
       "               '2021-04-30 23:52:00', '2021-04-30 23:53:00',\n",
       "               '2021-04-30 23:54:00', '2021-04-30 23:55:00',\n",
       "               '2021-04-30 23:56:00', '2021-04-30 23:57:00',\n",
       "               '2021-04-30 23:58:00', '2021-04-30 23:59:00'],\n",
       "              dtype='datetime64[ns]', length=43200, freq='T')"
      ]
     },
     "execution_count": 82,
     "metadata": {},
     "output_type": "execute_result"
    }
   ],
   "source": [
    "ind"
   ]
  },
  {
   "cell_type": "code",
   "execution_count": 83,
   "metadata": {
    "scrolled": false
   },
   "outputs": [],
   "source": [
    "path = f'../../../SAJESS_SERVER_DATA/MustTrailer/mast/{yr}_{mnth[1]}/raw/'\n",
    "\n",
    "df_met = pd.read_csv(path + f'Stn_3_met_data_{mnth[0]}{yr}.csv', index_col=0, header=1, skiprows=(2,3), \n",
    "                   parse_dates=[0], infer_datetime_format=True, keep_date_col=False)\n",
    "\n",
    "df_diag = pd.read_csv(path + f'Stn_3_diagnostics_{mnth[0]}{yr}.csv', index_col=0, header=1, skiprows=(2,3), \n",
    "                   parse_dates=[0], infer_datetime_format=True, keep_date_col=False)\n",
    "\n",
    "df_pos = pd.read_csv(path + f'Stn_3_position_{mnth[0]}{yr}.csv', index_col=0, header=1, skiprows=(2,3), \n",
    "                   parse_dates=[0], infer_datetime_format=True, keep_date_col=False)\n",
    "\n",
    "del(df_met['StationName'], df_met['Leaf_Con'], df_met['Leaf_Dry'], df_met['Leaf_Wet'],\n",
    "   df_met['Precip_Rate'], df_met['Rain_mm'])\n",
    "del(df_pos['StationName'])\n",
    "del(df_diag['StationName'])\n",
    "\n",
    "df_met = df_met.astype(float)"
   ]
  },
  {
   "cell_type": "code",
   "execution_count": 84,
   "metadata": {},
   "outputs": [],
   "source": [
    "df_met = df_met[~df_met.index.duplicated()]\n",
    "df_diag = df_diag[~df_diag.index.duplicated()]\n",
    "df_pos = df_pos[~df_pos.index.duplicated()]"
   ]
  },
  {
   "cell_type": "code",
   "execution_count": 85,
   "metadata": {},
   "outputs": [],
   "source": [
    "reindxd_met = df_met.reindex(index=ind)\n",
    "reindxd_met.index.name='Timestamp'\n",
    "reindxd_diag = df_diag.reindex(index=ind)\n",
    "reindxd_diag.index.name='Timestamp'\n",
    "reindxd_pos = df_pos.reindex(index=ind)\n",
    "reindxd_pos.index.name='Timestamp'"
   ]
  },
  {
   "cell_type": "code",
   "execution_count": 86,
   "metadata": {},
   "outputs": [
    {
     "data": {
      "text/plain": [
       "(Timestamp('2021-04-01 00:00:00', freq='T'),\n",
       " Timestamp('2021-04-30 23:59:00', freq='T'),\n",
       " (43200, 4))"
      ]
     },
     "execution_count": 86,
     "metadata": {},
     "output_type": "execute_result"
    }
   ],
   "source": [
    "reindxd_met.index[0],reindxd_met.index[-1],reindxd_met.shape"
   ]
  },
  {
   "cell_type": "code",
   "execution_count": 87,
   "metadata": {},
   "outputs": [],
   "source": [
    "#fig, ax = plt.subplots(figsize=(8,4), dpi=150)\n",
    "\n",
    "#hp_df.Status.loc['2021-01-16':'2021-01-20'].plot(ax=ax, color='green', lw=.5)\n",
    "#reindxd_met.Air_Temp.plot(ax=ax, color='green', lw=.5)\n",
    "#ax.set_title('Status', loc='left', fontsize=8)\n",
    "#ax.set_ylabel('Temp')"
   ]
  },
  {
   "cell_type": "code",
   "execution_count": 88,
   "metadata": {},
   "outputs": [],
   "source": [
    "reindxd_met.to_csv(f'../../../SAJESS_SERVER_DATA/MustTrailer/mast/{yr}_{mnth[1]}/master/SJ_MT_MAST_01_MAS_1min_{yr}{mnth[1]}.txt')\n",
    "reindxd_diag.to_csv(f'../../../SAJESS_SERVER_DATA/MustTrailer/mast/{yr}_{mnth[1]}/master/SJ_MT_MAST_02_MAS_1min_{yr}{mnth[1]}.txt')\n",
    "reindxd_pos.to_csv(f'../../../SAJESS_SERVER_DATA/MustTrailer/mast/{yr}_{mnth[1]}/master/SJ_MT_MAST_03_MAS_1min_{yr}{mnth[1]}.txt')"
   ]
  },
  {
   "cell_type": "code",
   "execution_count": 89,
   "metadata": {},
   "outputs": [
    {
     "data": {
      "text/html": [
       "<div>\n",
       "<style scoped>\n",
       "    .dataframe tbody tr th:only-of-type {\n",
       "        vertical-align: middle;\n",
       "    }\n",
       "\n",
       "    .dataframe tbody tr th {\n",
       "        vertical-align: top;\n",
       "    }\n",
       "\n",
       "    .dataframe thead th {\n",
       "        text-align: right;\n",
       "    }\n",
       "</style>\n",
       "<table border=\"1\" class=\"dataframe\">\n",
       "  <thead>\n",
       "    <tr style=\"text-align: right;\">\n",
       "      <th></th>\n",
       "      <th>RECORD</th>\n",
       "      <th>WindSpd</th>\n",
       "      <th>WindDir</th>\n",
       "      <th>WindDir_SD</th>\n",
       "    </tr>\n",
       "    <tr>\n",
       "      <th>Timestamp</th>\n",
       "      <th></th>\n",
       "      <th></th>\n",
       "      <th></th>\n",
       "      <th></th>\n",
       "    </tr>\n",
       "  </thead>\n",
       "  <tbody>\n",
       "    <tr>\n",
       "      <th>2021-04-01 00:00:00</th>\n",
       "      <td>44794.0</td>\n",
       "      <td>2.220</td>\n",
       "      <td>174.8</td>\n",
       "      <td>0.000</td>\n",
       "    </tr>\n",
       "    <tr>\n",
       "      <th>2021-04-01 00:01:00</th>\n",
       "      <td>44795.0</td>\n",
       "      <td>1.729</td>\n",
       "      <td>146.2</td>\n",
       "      <td>0.000</td>\n",
       "    </tr>\n",
       "    <tr>\n",
       "      <th>2021-04-01 00:02:00</th>\n",
       "      <td>44796.0</td>\n",
       "      <td>1.039</td>\n",
       "      <td>127.4</td>\n",
       "      <td>0.000</td>\n",
       "    </tr>\n",
       "    <tr>\n",
       "      <th>2021-04-01 00:03:00</th>\n",
       "      <td>44797.0</td>\n",
       "      <td>1.826</td>\n",
       "      <td>105.6</td>\n",
       "      <td>0.000</td>\n",
       "    </tr>\n",
       "    <tr>\n",
       "      <th>2021-04-01 00:04:00</th>\n",
       "      <td>44798.0</td>\n",
       "      <td>2.891</td>\n",
       "      <td>143.9</td>\n",
       "      <td>0.014</td>\n",
       "    </tr>\n",
       "    <tr>\n",
       "      <th>...</th>\n",
       "      <td>...</td>\n",
       "      <td>...</td>\n",
       "      <td>...</td>\n",
       "      <td>...</td>\n",
       "    </tr>\n",
       "    <tr>\n",
       "      <th>2021-04-30 23:55:00</th>\n",
       "      <td>NaN</td>\n",
       "      <td>NaN</td>\n",
       "      <td>NaN</td>\n",
       "      <td>NaN</td>\n",
       "    </tr>\n",
       "    <tr>\n",
       "      <th>2021-04-30 23:56:00</th>\n",
       "      <td>NaN</td>\n",
       "      <td>NaN</td>\n",
       "      <td>NaN</td>\n",
       "      <td>NaN</td>\n",
       "    </tr>\n",
       "    <tr>\n",
       "      <th>2021-04-30 23:57:00</th>\n",
       "      <td>NaN</td>\n",
       "      <td>NaN</td>\n",
       "      <td>NaN</td>\n",
       "      <td>NaN</td>\n",
       "    </tr>\n",
       "    <tr>\n",
       "      <th>2021-04-30 23:58:00</th>\n",
       "      <td>NaN</td>\n",
       "      <td>NaN</td>\n",
       "      <td>NaN</td>\n",
       "      <td>NaN</td>\n",
       "    </tr>\n",
       "    <tr>\n",
       "      <th>2021-04-30 23:59:00</th>\n",
       "      <td>NaN</td>\n",
       "      <td>NaN</td>\n",
       "      <td>NaN</td>\n",
       "      <td>NaN</td>\n",
       "    </tr>\n",
       "  </tbody>\n",
       "</table>\n",
       "<p>43200 rows × 4 columns</p>\n",
       "</div>"
      ],
      "text/plain": [
       "                      RECORD  WindSpd  WindDir  WindDir_SD\n",
       "Timestamp                                                 \n",
       "2021-04-01 00:00:00  44794.0    2.220    174.8       0.000\n",
       "2021-04-01 00:01:00  44795.0    1.729    146.2       0.000\n",
       "2021-04-01 00:02:00  44796.0    1.039    127.4       0.000\n",
       "2021-04-01 00:03:00  44797.0    1.826    105.6       0.000\n",
       "2021-04-01 00:04:00  44798.0    2.891    143.9       0.014\n",
       "...                      ...      ...      ...         ...\n",
       "2021-04-30 23:55:00      NaN      NaN      NaN         NaN\n",
       "2021-04-30 23:56:00      NaN      NaN      NaN         NaN\n",
       "2021-04-30 23:57:00      NaN      NaN      NaN         NaN\n",
       "2021-04-30 23:58:00      NaN      NaN      NaN         NaN\n",
       "2021-04-30 23:59:00      NaN      NaN      NaN         NaN\n",
       "\n",
       "[43200 rows x 4 columns]"
      ]
     },
     "execution_count": 89,
     "metadata": {},
     "output_type": "execute_result"
    }
   ],
   "source": [
    "reindxd_met"
   ]
  },
  {
   "cell_type": "code",
   "execution_count": 90,
   "metadata": {},
   "outputs": [
    {
     "data": {
      "text/html": [
       "<div>\n",
       "<style scoped>\n",
       "    .dataframe tbody tr th:only-of-type {\n",
       "        vertical-align: middle;\n",
       "    }\n",
       "\n",
       "    .dataframe tbody tr th {\n",
       "        vertical-align: top;\n",
       "    }\n",
       "\n",
       "    .dataframe thead th {\n",
       "        text-align: right;\n",
       "    }\n",
       "</style>\n",
       "<table border=\"1\" class=\"dataframe\">\n",
       "  <thead>\n",
       "    <tr style=\"text-align: right;\">\n",
       "      <th></th>\n",
       "      <th>RECORD</th>\n",
       "      <th>Battery_Voltage_Max</th>\n",
       "      <th>Battery_Voltage_Min</th>\n",
       "      <th>Panel_Temperature_Max</th>\n",
       "      <th>Panel_Temperature_Min</th>\n",
       "      <th>OSVersion</th>\n",
       "      <th>SerialNumber</th>\n",
       "      <th>StartTime</th>\n",
       "      <th>ProgName</th>\n",
       "      <th>RunSignature</th>\n",
       "      <th>ProgSignature</th>\n",
       "      <th>LithiumBattery</th>\n",
       "      <th>Low12VCount</th>\n",
       "      <th>SkippedScan</th>\n",
       "      <th>WatchdogErrors</th>\n",
       "      <th>VarOutOfBound</th>\n",
       "      <th>CPUDriveFree</th>\n",
       "      <th>USRDriveFree</th>\n",
       "      <th>CardBytesFree</th>\n",
       "    </tr>\n",
       "    <tr>\n",
       "      <th>Timestamp</th>\n",
       "      <th></th>\n",
       "      <th></th>\n",
       "      <th></th>\n",
       "      <th></th>\n",
       "      <th></th>\n",
       "      <th></th>\n",
       "      <th></th>\n",
       "      <th></th>\n",
       "      <th></th>\n",
       "      <th></th>\n",
       "      <th></th>\n",
       "      <th></th>\n",
       "      <th></th>\n",
       "      <th></th>\n",
       "      <th></th>\n",
       "      <th></th>\n",
       "      <th></th>\n",
       "      <th></th>\n",
       "      <th></th>\n",
       "    </tr>\n",
       "  </thead>\n",
       "  <tbody>\n",
       "    <tr>\n",
       "      <th>2021-04-01 00:00:00</th>\n",
       "      <td>44794.0</td>\n",
       "      <td>12.91</td>\n",
       "      <td>12.91</td>\n",
       "      <td>13.60</td>\n",
       "      <td>13.60</td>\n",
       "      <td>CR1000X.Std.03.02</td>\n",
       "      <td>7482.0</td>\n",
       "      <td>2021-02-28 19:32:35.356</td>\n",
       "      <td>CPU:MUST_Stn3_2021_02_19.CR1X</td>\n",
       "      <td>27078.0</td>\n",
       "      <td>20943.0</td>\n",
       "      <td>3.0</td>\n",
       "      <td>0.0</td>\n",
       "      <td>0.0</td>\n",
       "      <td>0.0</td>\n",
       "      <td>0.0</td>\n",
       "      <td>31305728.0</td>\n",
       "      <td>0.0</td>\n",
       "      <td>4.294967e+09</td>\n",
       "    </tr>\n",
       "    <tr>\n",
       "      <th>2021-04-01 00:01:00</th>\n",
       "      <td>44795.0</td>\n",
       "      <td>12.88</td>\n",
       "      <td>12.88</td>\n",
       "      <td>13.60</td>\n",
       "      <td>13.60</td>\n",
       "      <td>CR1000X.Std.03.02</td>\n",
       "      <td>7482.0</td>\n",
       "      <td>2021-02-28 19:32:35.356</td>\n",
       "      <td>CPU:MUST_Stn3_2021_02_19.CR1X</td>\n",
       "      <td>27078.0</td>\n",
       "      <td>20943.0</td>\n",
       "      <td>3.0</td>\n",
       "      <td>0.0</td>\n",
       "      <td>0.0</td>\n",
       "      <td>0.0</td>\n",
       "      <td>0.0</td>\n",
       "      <td>31305728.0</td>\n",
       "      <td>0.0</td>\n",
       "      <td>4.294967e+09</td>\n",
       "    </tr>\n",
       "    <tr>\n",
       "      <th>2021-04-01 00:02:00</th>\n",
       "      <td>44796.0</td>\n",
       "      <td>12.92</td>\n",
       "      <td>12.92</td>\n",
       "      <td>13.59</td>\n",
       "      <td>13.59</td>\n",
       "      <td>CR1000X.Std.03.02</td>\n",
       "      <td>7482.0</td>\n",
       "      <td>2021-02-28 19:32:35.356</td>\n",
       "      <td>CPU:MUST_Stn3_2021_02_19.CR1X</td>\n",
       "      <td>27078.0</td>\n",
       "      <td>20943.0</td>\n",
       "      <td>3.0</td>\n",
       "      <td>0.0</td>\n",
       "      <td>0.0</td>\n",
       "      <td>0.0</td>\n",
       "      <td>0.0</td>\n",
       "      <td>31305728.0</td>\n",
       "      <td>0.0</td>\n",
       "      <td>4.294967e+09</td>\n",
       "    </tr>\n",
       "    <tr>\n",
       "      <th>2021-04-01 00:03:00</th>\n",
       "      <td>44797.0</td>\n",
       "      <td>12.89</td>\n",
       "      <td>12.89</td>\n",
       "      <td>13.59</td>\n",
       "      <td>13.59</td>\n",
       "      <td>CR1000X.Std.03.02</td>\n",
       "      <td>7482.0</td>\n",
       "      <td>2021-02-28 19:32:35.356</td>\n",
       "      <td>CPU:MUST_Stn3_2021_02_19.CR1X</td>\n",
       "      <td>27078.0</td>\n",
       "      <td>20943.0</td>\n",
       "      <td>3.0</td>\n",
       "      <td>0.0</td>\n",
       "      <td>0.0</td>\n",
       "      <td>0.0</td>\n",
       "      <td>0.0</td>\n",
       "      <td>31305728.0</td>\n",
       "      <td>0.0</td>\n",
       "      <td>4.294967e+09</td>\n",
       "    </tr>\n",
       "    <tr>\n",
       "      <th>2021-04-01 00:04:00</th>\n",
       "      <td>44798.0</td>\n",
       "      <td>12.89</td>\n",
       "      <td>12.89</td>\n",
       "      <td>13.58</td>\n",
       "      <td>13.58</td>\n",
       "      <td>CR1000X.Std.03.02</td>\n",
       "      <td>7482.0</td>\n",
       "      <td>2021-02-28 19:32:35.356</td>\n",
       "      <td>CPU:MUST_Stn3_2021_02_19.CR1X</td>\n",
       "      <td>27078.0</td>\n",
       "      <td>20943.0</td>\n",
       "      <td>3.0</td>\n",
       "      <td>0.0</td>\n",
       "      <td>0.0</td>\n",
       "      <td>0.0</td>\n",
       "      <td>0.0</td>\n",
       "      <td>31305728.0</td>\n",
       "      <td>0.0</td>\n",
       "      <td>4.294967e+09</td>\n",
       "    </tr>\n",
       "  </tbody>\n",
       "</table>\n",
       "</div>"
      ],
      "text/plain": [
       "                      RECORD  Battery_Voltage_Max  Battery_Voltage_Min  \\\n",
       "Timestamp                                                                \n",
       "2021-04-01 00:00:00  44794.0                12.91                12.91   \n",
       "2021-04-01 00:01:00  44795.0                12.88                12.88   \n",
       "2021-04-01 00:02:00  44796.0                12.92                12.92   \n",
       "2021-04-01 00:03:00  44797.0                12.89                12.89   \n",
       "2021-04-01 00:04:00  44798.0                12.89                12.89   \n",
       "\n",
       "                     Panel_Temperature_Max  Panel_Temperature_Min  \\\n",
       "Timestamp                                                           \n",
       "2021-04-01 00:00:00                  13.60                  13.60   \n",
       "2021-04-01 00:01:00                  13.60                  13.60   \n",
       "2021-04-01 00:02:00                  13.59                  13.59   \n",
       "2021-04-01 00:03:00                  13.59                  13.59   \n",
       "2021-04-01 00:04:00                  13.58                  13.58   \n",
       "\n",
       "                             OSVersion  SerialNumber                StartTime  \\\n",
       "Timestamp                                                                       \n",
       "2021-04-01 00:00:00  CR1000X.Std.03.02        7482.0  2021-02-28 19:32:35.356   \n",
       "2021-04-01 00:01:00  CR1000X.Std.03.02        7482.0  2021-02-28 19:32:35.356   \n",
       "2021-04-01 00:02:00  CR1000X.Std.03.02        7482.0  2021-02-28 19:32:35.356   \n",
       "2021-04-01 00:03:00  CR1000X.Std.03.02        7482.0  2021-02-28 19:32:35.356   \n",
       "2021-04-01 00:04:00  CR1000X.Std.03.02        7482.0  2021-02-28 19:32:35.356   \n",
       "\n",
       "                                          ProgName  RunSignature  \\\n",
       "Timestamp                                                          \n",
       "2021-04-01 00:00:00  CPU:MUST_Stn3_2021_02_19.CR1X       27078.0   \n",
       "2021-04-01 00:01:00  CPU:MUST_Stn3_2021_02_19.CR1X       27078.0   \n",
       "2021-04-01 00:02:00  CPU:MUST_Stn3_2021_02_19.CR1X       27078.0   \n",
       "2021-04-01 00:03:00  CPU:MUST_Stn3_2021_02_19.CR1X       27078.0   \n",
       "2021-04-01 00:04:00  CPU:MUST_Stn3_2021_02_19.CR1X       27078.0   \n",
       "\n",
       "                     ProgSignature  LithiumBattery  Low12VCount  SkippedScan  \\\n",
       "Timestamp                                                                      \n",
       "2021-04-01 00:00:00        20943.0             3.0          0.0          0.0   \n",
       "2021-04-01 00:01:00        20943.0             3.0          0.0          0.0   \n",
       "2021-04-01 00:02:00        20943.0             3.0          0.0          0.0   \n",
       "2021-04-01 00:03:00        20943.0             3.0          0.0          0.0   \n",
       "2021-04-01 00:04:00        20943.0             3.0          0.0          0.0   \n",
       "\n",
       "                     WatchdogErrors  VarOutOfBound  CPUDriveFree  \\\n",
       "Timestamp                                                          \n",
       "2021-04-01 00:00:00             0.0            0.0    31305728.0   \n",
       "2021-04-01 00:01:00             0.0            0.0    31305728.0   \n",
       "2021-04-01 00:02:00             0.0            0.0    31305728.0   \n",
       "2021-04-01 00:03:00             0.0            0.0    31305728.0   \n",
       "2021-04-01 00:04:00             0.0            0.0    31305728.0   \n",
       "\n",
       "                     USRDriveFree  CardBytesFree  \n",
       "Timestamp                                         \n",
       "2021-04-01 00:00:00           0.0   4.294967e+09  \n",
       "2021-04-01 00:01:00           0.0   4.294967e+09  \n",
       "2021-04-01 00:02:00           0.0   4.294967e+09  \n",
       "2021-04-01 00:03:00           0.0   4.294967e+09  \n",
       "2021-04-01 00:04:00           0.0   4.294967e+09  "
      ]
     },
     "execution_count": 90,
     "metadata": {},
     "output_type": "execute_result"
    }
   ],
   "source": [
    "reindxd_diag.head()"
   ]
  },
  {
   "cell_type": "code",
   "execution_count": 91,
   "metadata": {},
   "outputs": [
    {
     "data": {
      "text/html": [
       "<div>\n",
       "<style scoped>\n",
       "    .dataframe tbody tr th:only-of-type {\n",
       "        vertical-align: middle;\n",
       "    }\n",
       "\n",
       "    .dataframe tbody tr th {\n",
       "        vertical-align: top;\n",
       "    }\n",
       "\n",
       "    .dataframe thead th {\n",
       "        text-align: right;\n",
       "    }\n",
       "</style>\n",
       "<table border=\"1\" class=\"dataframe\">\n",
       "  <thead>\n",
       "    <tr style=\"text-align: right;\">\n",
       "      <th></th>\n",
       "      <th>RECORD</th>\n",
       "      <th>latitude</th>\n",
       "      <th>altitude</th>\n",
       "      <th>longitude</th>\n",
       "      <th>hemisphere_NS</th>\n",
       "      <th>hemisphere_EW</th>\n",
       "      <th>sun_azimuth</th>\n",
       "      <th>sun_elevation</th>\n",
       "      <th>hour_angle</th>\n",
       "      <th>sun_declination</th>\n",
       "      <th>air_mass_coeff</th>\n",
       "      <th>daytime</th>\n",
       "    </tr>\n",
       "    <tr>\n",
       "      <th>Timestamp</th>\n",
       "      <th></th>\n",
       "      <th></th>\n",
       "      <th></th>\n",
       "      <th></th>\n",
       "      <th></th>\n",
       "      <th></th>\n",
       "      <th></th>\n",
       "      <th></th>\n",
       "      <th></th>\n",
       "      <th></th>\n",
       "      <th></th>\n",
       "      <th></th>\n",
       "    </tr>\n",
       "  </thead>\n",
       "  <tbody>\n",
       "    <tr>\n",
       "      <th>2021-04-01 00:00:00</th>\n",
       "      <td>44845.0</td>\n",
       "      <td>47.36154</td>\n",
       "      <td>152.8</td>\n",
       "      <td>-68.32056</td>\n",
       "      <td>1.0</td>\n",
       "      <td>-1.0</td>\n",
       "      <td>288.5575</td>\n",
       "      <td>-10.36998</td>\n",
       "      <td>110.7123</td>\n",
       "      <td>4.544112</td>\n",
       "      <td>NAN</td>\n",
       "      <td>0.0</td>\n",
       "    </tr>\n",
       "    <tr>\n",
       "      <th>2021-04-01 00:01:00</th>\n",
       "      <td>44846.0</td>\n",
       "      <td>47.36150</td>\n",
       "      <td>147.5</td>\n",
       "      <td>-68.32064</td>\n",
       "      <td>1.0</td>\n",
       "      <td>-1.0</td>\n",
       "      <td>288.7513</td>\n",
       "      <td>-10.53082</td>\n",
       "      <td>110.9622</td>\n",
       "      <td>4.544112</td>\n",
       "      <td>NAN</td>\n",
       "      <td>0.0</td>\n",
       "    </tr>\n",
       "    <tr>\n",
       "      <th>2021-04-01 00:02:00</th>\n",
       "      <td>44847.0</td>\n",
       "      <td>47.36153</td>\n",
       "      <td>142.9</td>\n",
       "      <td>-68.32060</td>\n",
       "      <td>1.0</td>\n",
       "      <td>-1.0</td>\n",
       "      <td>288.9455</td>\n",
       "      <td>-10.69151</td>\n",
       "      <td>111.2122</td>\n",
       "      <td>4.544112</td>\n",
       "      <td>NAN</td>\n",
       "      <td>0.0</td>\n",
       "    </tr>\n",
       "    <tr>\n",
       "      <th>2021-04-01 00:03:00</th>\n",
       "      <td>44848.0</td>\n",
       "      <td>47.36156</td>\n",
       "      <td>146.2</td>\n",
       "      <td>-68.32062</td>\n",
       "      <td>1.0</td>\n",
       "      <td>-1.0</td>\n",
       "      <td>289.1412</td>\n",
       "      <td>-10.85127</td>\n",
       "      <td>111.4626</td>\n",
       "      <td>4.545450</td>\n",
       "      <td>NAN</td>\n",
       "      <td>0.0</td>\n",
       "    </tr>\n",
       "    <tr>\n",
       "      <th>2021-04-01 00:04:00</th>\n",
       "      <td>44849.0</td>\n",
       "      <td>47.36155</td>\n",
       "      <td>149.1</td>\n",
       "      <td>-68.32058</td>\n",
       "      <td>1.0</td>\n",
       "      <td>-1.0</td>\n",
       "      <td>289.3359</td>\n",
       "      <td>-11.01160</td>\n",
       "      <td>111.7126</td>\n",
       "      <td>4.545450</td>\n",
       "      <td>NAN</td>\n",
       "      <td>0.0</td>\n",
       "    </tr>\n",
       "  </tbody>\n",
       "</table>\n",
       "</div>"
      ],
      "text/plain": [
       "                      RECORD  latitude  altitude  longitude  hemisphere_NS  \\\n",
       "Timestamp                                                                    \n",
       "2021-04-01 00:00:00  44845.0  47.36154     152.8  -68.32056            1.0   \n",
       "2021-04-01 00:01:00  44846.0  47.36150     147.5  -68.32064            1.0   \n",
       "2021-04-01 00:02:00  44847.0  47.36153     142.9  -68.32060            1.0   \n",
       "2021-04-01 00:03:00  44848.0  47.36156     146.2  -68.32062            1.0   \n",
       "2021-04-01 00:04:00  44849.0  47.36155     149.1  -68.32058            1.0   \n",
       "\n",
       "                     hemisphere_EW  sun_azimuth  sun_elevation  hour_angle  \\\n",
       "Timestamp                                                                    \n",
       "2021-04-01 00:00:00           -1.0     288.5575      -10.36998    110.7123   \n",
       "2021-04-01 00:01:00           -1.0     288.7513      -10.53082    110.9622   \n",
       "2021-04-01 00:02:00           -1.0     288.9455      -10.69151    111.2122   \n",
       "2021-04-01 00:03:00           -1.0     289.1412      -10.85127    111.4626   \n",
       "2021-04-01 00:04:00           -1.0     289.3359      -11.01160    111.7126   \n",
       "\n",
       "                     sun_declination air_mass_coeff  daytime  \n",
       "Timestamp                                                     \n",
       "2021-04-01 00:00:00         4.544112            NAN      0.0  \n",
       "2021-04-01 00:01:00         4.544112            NAN      0.0  \n",
       "2021-04-01 00:02:00         4.544112            NAN      0.0  \n",
       "2021-04-01 00:03:00         4.545450            NAN      0.0  \n",
       "2021-04-01 00:04:00         4.545450            NAN      0.0  "
      ]
     },
     "execution_count": 91,
     "metadata": {},
     "output_type": "execute_result"
    }
   ],
   "source": [
    "reindxd_pos.head()"
   ]
  },
  {
   "cell_type": "code",
   "execution_count": null,
   "metadata": {},
   "outputs": [],
   "source": []
  }
 ],
 "metadata": {
  "anaconda-cloud": {},
  "kernelspec": {
   "display_name": "Python 3",
   "language": "python",
   "name": "python3"
  },
  "language_info": {
   "codemirror_mode": {
    "name": "ipython",
    "version": 3
   },
   "file_extension": ".py",
   "mimetype": "text/x-python",
   "name": "python",
   "nbconvert_exporter": "python",
   "pygments_lexer": "ipython3",
   "version": "3.8.6"
  },
  "nbpresent": {
   "slides": {
    "04f988fb-d82e-4a13-9221-7ce706d2d386": {
     "id": "04f988fb-d82e-4a13-9221-7ce706d2d386",
     "prev": "5a11ebbe-c706-431e-b828-8a5743651a3b",
     "regions": {
      "26f818f6-fe86-46dc-9999-1108c31d8a43": {
       "attrs": {
        "height": 0.8,
        "width": 0.8,
        "x": 0.1,
        "y": 0.1
       },
       "content": {
        "cell": "24a61abf-9617-45b8-b9fa-51f1441cbdce",
        "part": "whole"
       },
       "id": "26f818f6-fe86-46dc-9999-1108c31d8a43"
      }
     }
    },
    "083205f2-59f9-481c-a3a7-6cb1db7d7f91": {
     "id": "083205f2-59f9-481c-a3a7-6cb1db7d7f91",
     "prev": "a170a46e-18f5-4805-b002-0dd67153edbd",
     "regions": {
      "e765b0e6-a7e4-47da-88b7-00d9854edadd": {
       "attrs": {
        "height": 0.8,
        "width": 0.8,
        "x": 0.1,
        "y": 0.1
       },
       "content": {
        "cell": "ed39675d-9221-4c64-add4-28d42f9a51bf",
        "part": "whole"
       },
       "id": "e765b0e6-a7e4-47da-88b7-00d9854edadd"
      }
     }
    },
    "0c5e4ecc-14e6-4e0a-8f02-a07544e80c5e": {
     "id": "0c5e4ecc-14e6-4e0a-8f02-a07544e80c5e",
     "prev": "04f988fb-d82e-4a13-9221-7ce706d2d386",
     "regions": {
      "0e536393-e738-4206-9c35-cc13c6ad9ad2": {
       "attrs": {
        "height": 0.8,
        "width": 0.8,
        "x": 0.1,
        "y": 0.1
       },
       "content": {
        "cell": "bdc565f8-aba4-4e25-b44e-08d5abd29a4f",
        "part": "whole"
       },
       "id": "0e536393-e738-4206-9c35-cc13c6ad9ad2"
      }
     }
    },
    "11f464d0-aa3e-484c-a1e2-40436ee34e14": {
     "id": "11f464d0-aa3e-484c-a1e2-40436ee34e14",
     "prev": "c345056e-8c5d-4ba9-a702-9e372af3d20f",
     "regions": {
      "42c1908b-fc88-4e96-b5f0-375fadfb01b6": {
       "attrs": {
        "height": 0.8,
        "width": 0.8,
        "x": 0.1,
        "y": 0.1
       },
       "content": {
        "cell": "64392e8a-2a03-428b-b22a-93afb9786c35",
        "part": "whole"
       },
       "id": "42c1908b-fc88-4e96-b5f0-375fadfb01b6"
      }
     }
    },
    "1490e3e7-1831-45b2-ae8f-99293f0744bc": {
     "id": "1490e3e7-1831-45b2-ae8f-99293f0744bc",
     "prev": "0c5e4ecc-14e6-4e0a-8f02-a07544e80c5e",
     "regions": {
      "c4122610-6bd4-40a2-977d-713dca215afc": {
       "attrs": {
        "height": 0.8,
        "width": 0.8,
        "x": 0.1,
        "y": 0.1
       },
       "content": {
        "cell": "d3896c3b-404a-43ba-9a29-4020e6e0d39b",
        "part": "whole"
       },
       "id": "c4122610-6bd4-40a2-977d-713dca215afc"
      }
     }
    },
    "283e15f3-675b-4815-9e2b-59f6bc87721e": {
     "id": "283e15f3-675b-4815-9e2b-59f6bc87721e",
     "prev": null,
     "regions": {
      "b9bfc2e3-ad03-4c13-827b-3f4aea9beb67": {
       "attrs": {
        "height": 0.8,
        "width": 0.8,
        "x": 0.1,
        "y": 0.1
       },
       "content": {
        "cell": "dc9bd7a9-6255-4997-b9f0-96b346f91ea3",
        "part": "whole"
       },
       "id": "b9bfc2e3-ad03-4c13-827b-3f4aea9beb67"
      }
     }
    },
    "5a11ebbe-c706-431e-b828-8a5743651a3b": {
     "id": "5a11ebbe-c706-431e-b828-8a5743651a3b",
     "prev": "11f464d0-aa3e-484c-a1e2-40436ee34e14",
     "regions": {
      "0cebe0aa-315f-4d1b-b87b-1d02cabb60df": {
       "attrs": {
        "height": 0.8,
        "width": 0.8,
        "x": 0.1,
        "y": 0.1
       },
       "content": {
        "cell": "068e0f62-0cc2-4c59-9f31-cb40982e8568",
        "part": "whole"
       },
       "id": "0cebe0aa-315f-4d1b-b87b-1d02cabb60df"
      }
     }
    },
    "5b5c4258-ce37-4385-bdd4-1e233906b2eb": {
     "id": "5b5c4258-ce37-4385-bdd4-1e233906b2eb",
     "prev": "e1d017ea-45a5-4043-88b5-87809232a224",
     "regions": {
      "6759abd5-aebe-4d98-af02-58b5c32e0586": {
       "attrs": {
        "height": 0.8,
        "width": 0.8,
        "x": 0.1,
        "y": 0.1
       },
       "content": {
        "cell": "0f25f768-cbd6-4f1d-ad4b-65867a7ad051",
        "part": "whole"
       },
       "id": "6759abd5-aebe-4d98-af02-58b5c32e0586"
      }
     }
    },
    "65b92749-c9ca-4361-a4da-ef908794d2ce": {
     "id": "65b92749-c9ca-4361-a4da-ef908794d2ce",
     "prev": "6a552f08-d02f-4419-bd08-9a4dfa3897dd",
     "regions": {
      "8d3091c8-1f51-4ba3-8156-3a1b1902919f": {
       "attrs": {
        "height": 0.8,
        "width": 0.8,
        "x": 0.1,
        "y": 0.1
       },
       "content": {
        "cell": "4df17572-6688-40ad-8077-cea52c27c9b6",
        "part": "whole"
       },
       "id": "8d3091c8-1f51-4ba3-8156-3a1b1902919f"
      }
     }
    },
    "6a552f08-d02f-4419-bd08-9a4dfa3897dd": {
     "id": "6a552f08-d02f-4419-bd08-9a4dfa3897dd",
     "prev": "9e570aa2-a9d3-4551-aed8-095709ba3b86",
     "regions": {
      "42134d02-52ad-40b1-98d1-38420549cc6d": {
       "attrs": {
        "height": 0.8,
        "width": 0.8,
        "x": 0.1,
        "y": 0.1
       },
       "content": {
        "cell": "cc26312c-708e-4227-aacc-497e6409d862",
        "part": "whole"
       },
       "id": "42134d02-52ad-40b1-98d1-38420549cc6d"
      }
     }
    },
    "7839354a-6714-4bf0-bf86-2001d2a3ba05": {
     "id": "7839354a-6714-4bf0-bf86-2001d2a3ba05",
     "prev": "1490e3e7-1831-45b2-ae8f-99293f0744bc",
     "regions": {
      "c0c6833a-56ae-4a69-be6a-e5780da93902": {
       "attrs": {
        "height": 0.8,
        "width": 0.8,
        "x": 0.1,
        "y": 0.1
       },
       "content": {
        "cell": "879d7171-654d-4637-a61b-29bad6651a79",
        "part": "whole"
       },
       "id": "c0c6833a-56ae-4a69-be6a-e5780da93902"
      }
     }
    },
    "9e570aa2-a9d3-4551-aed8-095709ba3b86": {
     "id": "9e570aa2-a9d3-4551-aed8-095709ba3b86",
     "prev": "083205f2-59f9-481c-a3a7-6cb1db7d7f91",
     "regions": {
      "8e14e15b-1814-40ec-b6c7-6470e3f6abfc": {
       "attrs": {
        "height": 0.8,
        "width": 0.8,
        "x": 0.1,
        "y": 0.1
       },
       "content": {
        "cell": "13c6cb7f-9e93-4ab1-ad41-723405f1e694",
        "part": "whole"
       },
       "id": "8e14e15b-1814-40ec-b6c7-6470e3f6abfc"
      }
     }
    },
    "a170a46e-18f5-4805-b002-0dd67153edbd": {
     "id": "a170a46e-18f5-4805-b002-0dd67153edbd",
     "prev": "5b5c4258-ce37-4385-bdd4-1e233906b2eb",
     "regions": {
      "cfc11411-4bf8-471a-98be-13fd8f7831e8": {
       "attrs": {
        "height": 0.8,
        "width": 0.8,
        "x": 0.1,
        "y": 0.1
       },
       "content": {
        "cell": "5f8b2b19-94ca-42c3-9d99-2bf06f6ebc14",
        "part": "whole"
       },
       "id": "cfc11411-4bf8-471a-98be-13fd8f7831e8"
      }
     }
    },
    "c345056e-8c5d-4ba9-a702-9e372af3d20f": {
     "id": "c345056e-8c5d-4ba9-a702-9e372af3d20f",
     "prev": "283e15f3-675b-4815-9e2b-59f6bc87721e",
     "regions": {
      "796f26ce-e2de-4487-9625-4c7943c69efa": {
       "attrs": {
        "height": 1,
        "width": 1,
        "x": 0,
        "y": 0
       },
       "id": "796f26ce-e2de-4487-9625-4c7943c69efa"
      }
     }
    },
    "e1d017ea-45a5-4043-88b5-87809232a224": {
     "id": "e1d017ea-45a5-4043-88b5-87809232a224",
     "prev": "7839354a-6714-4bf0-bf86-2001d2a3ba05",
     "regions": {
      "47f23a6f-c287-417b-8287-b52753c632f1": {
       "attrs": {
        "height": 0.8,
        "width": 0.8,
        "x": 0.1,
        "y": 0.1
       },
       "content": {
        "cell": "3a1a9404-7226-40d9-a6a6-48d0b76ef20b",
        "part": "whole"
       },
       "id": "47f23a6f-c287-417b-8287-b52753c632f1"
      }
     }
    }
   },
   "themes": {}
  }
 },
 "nbformat": 4,
 "nbformat_minor": 4
}
