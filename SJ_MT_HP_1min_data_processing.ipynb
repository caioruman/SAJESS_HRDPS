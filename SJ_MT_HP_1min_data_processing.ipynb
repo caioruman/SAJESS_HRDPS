{
 "cells": [
  {
   "cell_type": "markdown",
   "metadata": {
    "nbpresent": {
     "id": "dc9bd7a9-6255-4997-b9f0-96b346f91ea3"
    },
    "slideshow": {
     "slide_type": "skip"
    }
   },
   "source": [
    "# SJ_MT_HP_1min_data_processing.ipynb\n",
    "\n",
    "```\n",
    "H Thompson\n",
    "GRAPH\n",
    "UQAM\n",
    "Oct 2021\n",
    "```"
   ]
  },
  {
   "cell_type": "markdown",
   "metadata": {
    "nbpresent": {
     "id": "64392e8a-2a03-428b-b22a-93afb9786c35"
    },
    "slideshow": {
     "slide_type": "skip"
    }
   },
   "source": [
    "# Imports"
   ]
  },
  {
   "cell_type": "code",
   "execution_count": 28,
   "metadata": {
    "nbpresent": {
     "id": "068e0f62-0cc2-4c59-9f31-cb40982e8568"
    },
    "slideshow": {
     "slide_type": "skip"
    }
   },
   "outputs": [],
   "source": [
    "import numpy as np\n",
    "import pandas as pd\n",
    "import matplotlib.pyplot as plt\n",
    "import os\n",
    "from calendar import monthrange\n",
    "\n",
    "%matplotlib inline\n",
    "plt.style.use('seaborn-ticks')"
   ]
  },
  {
   "cell_type": "markdown",
   "metadata": {
    "nbpresent": {
     "id": "24a61abf-9617-45b8-b9fa-51f1441cbdce"
    },
    "slideshow": {
     "slide_type": "skip"
    }
   },
   "source": [
    "# Files"
   ]
  },
  {
   "cell_type": "code",
   "execution_count": 29,
   "metadata": {},
   "outputs": [],
   "source": [
    "yr = 2021\n",
    "mnth = [\"April\",\"04\"]\n",
    "days = pd.Period(f'{yr}-{mnth[1]}-01').days_in_month\n",
    "ind = pd.date_range(f'{int(yr)}-{int(mnth[1])}-01 00:00:00',f'{int(yr)}-{int(mnth[1])}-{days} 23:59:00',freq='T')"
   ]
  },
  {
   "cell_type": "code",
   "execution_count": 30,
   "metadata": {
    "scrolled": false
   },
   "outputs": [],
   "source": [
    "path = f'../MustTrailer/hotplate/{yr}_{mnth[1]}/raw/'\n",
    "\n",
    "df_hp = pd.read_csv(path + f'Stn_3_hotplate_T1_{mnth[0]}{yr}.csv', index_col=0, header=1, skiprows=(2,3), \n",
    "                   parse_dates=[0], infer_datetime_format=True, keep_date_col=False)\n",
    "\n",
    "#df_hp = df_hp.astype(float)\n",
    "\n",
    "del(df_hp['StationName'],df_hp['T1_Serial_Check'],df_hp['T1_K63_Timestamp'],df_hp['RECORD'])"
   ]
  },
  {
   "cell_type": "code",
   "execution_count": 31,
   "metadata": {},
   "outputs": [],
   "source": [
    "df_hp['T1_K63_Ref_plate_pwr'] = df_hp.T1_K63_Ref_plate_pwr + '*' + df_hp.T1_K63_Check_Sum\n",
    "\n",
    "del(df_hp['T1_K63_Check_Sum'])"
   ]
  },
  {
   "cell_type": "code",
   "execution_count": 32,
   "metadata": {},
   "outputs": [],
   "source": [
    "cols = ['Precip_rate', 'Tot_accum', 'Temp', 'Baro', 'RH', \"Windspeed\", 'Status', 'Sensor_power', 'Ref_power']\n",
    "\n",
    "df_hp.columns = cols"
   ]
  },
  {
   "cell_type": "code",
   "execution_count": 33,
   "metadata": {},
   "outputs": [],
   "source": [
    "df_hp = df_hp[~df_hp.index.duplicated()]"
   ]
  },
  {
   "cell_type": "code",
   "execution_count": 34,
   "metadata": {},
   "outputs": [],
   "source": [
    "reindxd_hp = df_hp.reindex(index=ind)\n",
    "reindxd_hp.index.name='Timestamp'"
   ]
  },
  {
   "cell_type": "code",
   "execution_count": 35,
   "metadata": {},
   "outputs": [
    {
     "data": {
      "text/plain": [
       "(Timestamp('2021-04-01 00:00:00', freq='T'),\n",
       " Timestamp('2021-04-30 23:59:00', freq='T'),\n",
       " (43200, 9))"
      ]
     },
     "execution_count": 35,
     "metadata": {},
     "output_type": "execute_result"
    }
   ],
   "source": [
    "reindxd_hp.index[0],reindxd_hp.index[-1],reindxd_hp.shape"
   ]
  },
  {
   "cell_type": "code",
   "execution_count": 36,
   "metadata": {},
   "outputs": [],
   "source": [
    "reindxd_hp.to_csv(f'../MustTrailer/hotplate/{yr}_{mnth[1]}/master/SJ_MT_HP_1min_{yr}{mnth[1]}.txt')\n"
   ]
  },
  {
   "cell_type": "code",
   "execution_count": null,
   "metadata": {},
   "outputs": [],
   "source": []
  },
  {
   "cell_type": "code",
   "execution_count": null,
   "metadata": {},
   "outputs": [],
   "source": []
  }
 ],
 "metadata": {
  "anaconda-cloud": {},
  "kernelspec": {
   "display_name": "Python 3",
   "language": "python",
   "name": "python3"
  },
  "language_info": {
   "codemirror_mode": {
    "name": "ipython",
    "version": 3
   },
   "file_extension": ".py",
   "mimetype": "text/x-python",
   "name": "python",
   "nbconvert_exporter": "python",
   "pygments_lexer": "ipython3",
   "version": "3.8.6"
  },
  "nbpresent": {
   "slides": {
    "04f988fb-d82e-4a13-9221-7ce706d2d386": {
     "id": "04f988fb-d82e-4a13-9221-7ce706d2d386",
     "prev": "5a11ebbe-c706-431e-b828-8a5743651a3b",
     "regions": {
      "26f818f6-fe86-46dc-9999-1108c31d8a43": {
       "attrs": {
        "height": 0.8,
        "width": 0.8,
        "x": 0.1,
        "y": 0.1
       },
       "content": {
        "cell": "24a61abf-9617-45b8-b9fa-51f1441cbdce",
        "part": "whole"
       },
       "id": "26f818f6-fe86-46dc-9999-1108c31d8a43"
      }
     }
    },
    "083205f2-59f9-481c-a3a7-6cb1db7d7f91": {
     "id": "083205f2-59f9-481c-a3a7-6cb1db7d7f91",
     "prev": "a170a46e-18f5-4805-b002-0dd67153edbd",
     "regions": {
      "e765b0e6-a7e4-47da-88b7-00d9854edadd": {
       "attrs": {
        "height": 0.8,
        "width": 0.8,
        "x": 0.1,
        "y": 0.1
       },
       "content": {
        "cell": "ed39675d-9221-4c64-add4-28d42f9a51bf",
        "part": "whole"
       },
       "id": "e765b0e6-a7e4-47da-88b7-00d9854edadd"
      }
     }
    },
    "0c5e4ecc-14e6-4e0a-8f02-a07544e80c5e": {
     "id": "0c5e4ecc-14e6-4e0a-8f02-a07544e80c5e",
     "prev": "04f988fb-d82e-4a13-9221-7ce706d2d386",
     "regions": {
      "0e536393-e738-4206-9c35-cc13c6ad9ad2": {
       "attrs": {
        "height": 0.8,
        "width": 0.8,
        "x": 0.1,
        "y": 0.1
       },
       "content": {
        "cell": "bdc565f8-aba4-4e25-b44e-08d5abd29a4f",
        "part": "whole"
       },
       "id": "0e536393-e738-4206-9c35-cc13c6ad9ad2"
      }
     }
    },
    "11f464d0-aa3e-484c-a1e2-40436ee34e14": {
     "id": "11f464d0-aa3e-484c-a1e2-40436ee34e14",
     "prev": "c345056e-8c5d-4ba9-a702-9e372af3d20f",
     "regions": {
      "42c1908b-fc88-4e96-b5f0-375fadfb01b6": {
       "attrs": {
        "height": 0.8,
        "width": 0.8,
        "x": 0.1,
        "y": 0.1
       },
       "content": {
        "cell": "64392e8a-2a03-428b-b22a-93afb9786c35",
        "part": "whole"
       },
       "id": "42c1908b-fc88-4e96-b5f0-375fadfb01b6"
      }
     }
    },
    "1490e3e7-1831-45b2-ae8f-99293f0744bc": {
     "id": "1490e3e7-1831-45b2-ae8f-99293f0744bc",
     "prev": "0c5e4ecc-14e6-4e0a-8f02-a07544e80c5e",
     "regions": {
      "c4122610-6bd4-40a2-977d-713dca215afc": {
       "attrs": {
        "height": 0.8,
        "width": 0.8,
        "x": 0.1,
        "y": 0.1
       },
       "content": {
        "cell": "d3896c3b-404a-43ba-9a29-4020e6e0d39b",
        "part": "whole"
       },
       "id": "c4122610-6bd4-40a2-977d-713dca215afc"
      }
     }
    },
    "283e15f3-675b-4815-9e2b-59f6bc87721e": {
     "id": "283e15f3-675b-4815-9e2b-59f6bc87721e",
     "prev": null,
     "regions": {
      "b9bfc2e3-ad03-4c13-827b-3f4aea9beb67": {
       "attrs": {
        "height": 0.8,
        "width": 0.8,
        "x": 0.1,
        "y": 0.1
       },
       "content": {
        "cell": "dc9bd7a9-6255-4997-b9f0-96b346f91ea3",
        "part": "whole"
       },
       "id": "b9bfc2e3-ad03-4c13-827b-3f4aea9beb67"
      }
     }
    },
    "5a11ebbe-c706-431e-b828-8a5743651a3b": {
     "id": "5a11ebbe-c706-431e-b828-8a5743651a3b",
     "prev": "11f464d0-aa3e-484c-a1e2-40436ee34e14",
     "regions": {
      "0cebe0aa-315f-4d1b-b87b-1d02cabb60df": {
       "attrs": {
        "height": 0.8,
        "width": 0.8,
        "x": 0.1,
        "y": 0.1
       },
       "content": {
        "cell": "068e0f62-0cc2-4c59-9f31-cb40982e8568",
        "part": "whole"
       },
       "id": "0cebe0aa-315f-4d1b-b87b-1d02cabb60df"
      }
     }
    },
    "5b5c4258-ce37-4385-bdd4-1e233906b2eb": {
     "id": "5b5c4258-ce37-4385-bdd4-1e233906b2eb",
     "prev": "e1d017ea-45a5-4043-88b5-87809232a224",
     "regions": {
      "6759abd5-aebe-4d98-af02-58b5c32e0586": {
       "attrs": {
        "height": 0.8,
        "width": 0.8,
        "x": 0.1,
        "y": 0.1
       },
       "content": {
        "cell": "0f25f768-cbd6-4f1d-ad4b-65867a7ad051",
        "part": "whole"
       },
       "id": "6759abd5-aebe-4d98-af02-58b5c32e0586"
      }
     }
    },
    "65b92749-c9ca-4361-a4da-ef908794d2ce": {
     "id": "65b92749-c9ca-4361-a4da-ef908794d2ce",
     "prev": "6a552f08-d02f-4419-bd08-9a4dfa3897dd",
     "regions": {
      "8d3091c8-1f51-4ba3-8156-3a1b1902919f": {
       "attrs": {
        "height": 0.8,
        "width": 0.8,
        "x": 0.1,
        "y": 0.1
       },
       "content": {
        "cell": "4df17572-6688-40ad-8077-cea52c27c9b6",
        "part": "whole"
       },
       "id": "8d3091c8-1f51-4ba3-8156-3a1b1902919f"
      }
     }
    },
    "6a552f08-d02f-4419-bd08-9a4dfa3897dd": {
     "id": "6a552f08-d02f-4419-bd08-9a4dfa3897dd",
     "prev": "9e570aa2-a9d3-4551-aed8-095709ba3b86",
     "regions": {
      "42134d02-52ad-40b1-98d1-38420549cc6d": {
       "attrs": {
        "height": 0.8,
        "width": 0.8,
        "x": 0.1,
        "y": 0.1
       },
       "content": {
        "cell": "cc26312c-708e-4227-aacc-497e6409d862",
        "part": "whole"
       },
       "id": "42134d02-52ad-40b1-98d1-38420549cc6d"
      }
     }
    },
    "7839354a-6714-4bf0-bf86-2001d2a3ba05": {
     "id": "7839354a-6714-4bf0-bf86-2001d2a3ba05",
     "prev": "1490e3e7-1831-45b2-ae8f-99293f0744bc",
     "regions": {
      "c0c6833a-56ae-4a69-be6a-e5780da93902": {
       "attrs": {
        "height": 0.8,
        "width": 0.8,
        "x": 0.1,
        "y": 0.1
       },
       "content": {
        "cell": "879d7171-654d-4637-a61b-29bad6651a79",
        "part": "whole"
       },
       "id": "c0c6833a-56ae-4a69-be6a-e5780da93902"
      }
     }
    },
    "9e570aa2-a9d3-4551-aed8-095709ba3b86": {
     "id": "9e570aa2-a9d3-4551-aed8-095709ba3b86",
     "prev": "083205f2-59f9-481c-a3a7-6cb1db7d7f91",
     "regions": {
      "8e14e15b-1814-40ec-b6c7-6470e3f6abfc": {
       "attrs": {
        "height": 0.8,
        "width": 0.8,
        "x": 0.1,
        "y": 0.1
       },
       "content": {
        "cell": "13c6cb7f-9e93-4ab1-ad41-723405f1e694",
        "part": "whole"
       },
       "id": "8e14e15b-1814-40ec-b6c7-6470e3f6abfc"
      }
     }
    },
    "a170a46e-18f5-4805-b002-0dd67153edbd": {
     "id": "a170a46e-18f5-4805-b002-0dd67153edbd",
     "prev": "5b5c4258-ce37-4385-bdd4-1e233906b2eb",
     "regions": {
      "cfc11411-4bf8-471a-98be-13fd8f7831e8": {
       "attrs": {
        "height": 0.8,
        "width": 0.8,
        "x": 0.1,
        "y": 0.1
       },
       "content": {
        "cell": "5f8b2b19-94ca-42c3-9d99-2bf06f6ebc14",
        "part": "whole"
       },
       "id": "cfc11411-4bf8-471a-98be-13fd8f7831e8"
      }
     }
    },
    "c345056e-8c5d-4ba9-a702-9e372af3d20f": {
     "id": "c345056e-8c5d-4ba9-a702-9e372af3d20f",
     "prev": "283e15f3-675b-4815-9e2b-59f6bc87721e",
     "regions": {
      "796f26ce-e2de-4487-9625-4c7943c69efa": {
       "attrs": {
        "height": 1,
        "width": 1,
        "x": 0,
        "y": 0
       },
       "id": "796f26ce-e2de-4487-9625-4c7943c69efa"
      }
     }
    },
    "e1d017ea-45a5-4043-88b5-87809232a224": {
     "id": "e1d017ea-45a5-4043-88b5-87809232a224",
     "prev": "7839354a-6714-4bf0-bf86-2001d2a3ba05",
     "regions": {
      "47f23a6f-c287-417b-8287-b52753c632f1": {
       "attrs": {
        "height": 0.8,
        "width": 0.8,
        "x": 0.1,
        "y": 0.1
       },
       "content": {
        "cell": "3a1a9404-7226-40d9-a6a6-48d0b76ef20b",
        "part": "whole"
       },
       "id": "47f23a6f-c287-417b-8287-b52753c632f1"
      }
     }
    }
   },
   "themes": {}
  }
 },
 "nbformat": 4,
 "nbformat_minor": 4
}
