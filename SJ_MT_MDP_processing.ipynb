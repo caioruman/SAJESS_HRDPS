{
 "cells": [
  {
   "cell_type": "markdown",
   "metadata": {},
   "source": [
    "# SJ_MT_MDP_processing.ipynb"
   ]
  },
  {
   "cell_type": "markdown",
   "metadata": {},
   "source": [
    "```\n",
    "H Thompson\n",
    "UQAM\n",
    "Oct 2021\n",
    "```\n",
    "#### Will rename images using the date and time from the image metadata\n",
    "#### Caution: A copy of the image is NOT created. The original files will be renamed. \n",
    "**Copy** raw files into master directory and perform rename on copied files"
   ]
  },
  {
   "cell_type": "markdown",
   "metadata": {},
   "source": [
    "## Imports"
   ]
  },
  {
   "cell_type": "code",
   "execution_count": 1,
   "metadata": {},
   "outputs": [],
   "source": [
    "import numpy as np\n",
    "import pandas as pd\n",
    "import os\n",
    "import sys\n",
    "from PIL import Image\n",
    "import piexif as pf\n",
    "from PIL.ExifTags import TAGS\n",
    "import time\n",
    "import fnmatch as fn\n",
    "import datetime as dt"
   ]
  },
  {
   "cell_type": "markdown",
   "metadata": {},
   "source": [
    "## Functions"
   ]
  },
  {
   "cell_type": "code",
   "execution_count": 2,
   "metadata": {},
   "outputs": [],
   "source": [
    "# To retrieve metadata from image file \n",
    "def get_exif(fn):\n",
    "    ret = {}\n",
    "    i = Image.open(fn)\n",
    "    info = i._getexif()\n",
    "    for tag, value in info.items():\n",
    "        decoded = TAGS.get(tag, tag)\n",
    "        ret[decoded] = value\n",
    "    return ret"
   ]
  },
  {
   "cell_type": "markdown",
   "metadata": {},
   "source": [
    "## Constants"
   ]
  },
  {
   "cell_type": "code",
   "execution_count": 3,
   "metadata": {},
   "outputs": [],
   "source": [
    "yr = 2021\n",
    "mnth = 4"
   ]
  },
  {
   "cell_type": "markdown",
   "metadata": {},
   "source": [
    "## Files"
   ]
  },
  {
   "cell_type": "code",
   "execution_count": 4,
   "metadata": {},
   "outputs": [],
   "source": [
    "path = f'../MustTrailer/macrophotography/{yr}_{mnth:02d}/master/'\n",
    "MDP_list = [f for f in os.listdir(path) if fn.fnmatch(f, '2021*.jpg')]"
   ]
  },
  {
   "cell_type": "code",
   "execution_count": 5,
   "metadata": {},
   "outputs": [
    {
     "data": {
      "text/plain": [
       "224"
      ]
     },
     "execution_count": 5,
     "metadata": {},
     "output_type": "execute_result"
    }
   ],
   "source": [
    "len(MDP_list)"
   ]
  },
  {
   "cell_type": "code",
   "execution_count": 6,
   "metadata": {
    "scrolled": false
   },
   "outputs": [
    {
     "name": "stdout",
     "output_type": "stream",
     "text": [
      "Renamed 224 images\n"
     ]
    }
   ],
   "source": [
    "i=0\n",
    "for f in MDP_list:\n",
    "    \n",
    "    time = get_exif(path+f)['DateTimeOriginal']\n",
    "\n",
    "    # Formatting of the datetime\n",
    "    new_time = str(dt.datetime.strptime(time, '%Y:%m:%d %H:%M:%S') + dt.timedelta(hours=3))\n",
    "    new_time = new_time.replace(':', '')\n",
    "    new_time = new_time.replace(' ', '_')\n",
    "    new_time = new_time.replace('-','')\n",
    "\n",
    "    # Add the following line to remove the seconds from the datetime\n",
    "    #time = time[:-2]\n",
    "\n",
    "    # Create new filename including timestamp\n",
    "    new_name = f'SJ_MT_MDP_{new_time}.jpg'\n",
    "\n",
    "    # Use this ending if there is no chance of duplicated file names \n",
    "    os.rename(path+f, path+new_name)\n",
    "\n",
    "    # Use this ending to account for potential duplicates \n",
    "    #if os.path.exists(out_path + new_name):\n",
    "    #    print(new_name, 'file is already renamed'\n",
    "    #continue\n",
    "    #    while os.path.exists(new_name):\n",
    "    #        new_name = time+'(1)'+'_MT_MicroPhoto.jpg'\n",
    "    #    os.rename(file, new_name)\n",
    "    i=i+1\n",
    "    \n",
    "print(f'Renamed {i} images')"
   ]
  }
 ],
 "metadata": {
  "kernelspec": {
   "display_name": "Python 3",
   "language": "python",
   "name": "python3"
  },
  "language_info": {
   "codemirror_mode": {
    "name": "ipython",
    "version": 3
   },
   "file_extension": ".py",
   "mimetype": "text/x-python",
   "name": "python",
   "nbconvert_exporter": "python",
   "pygments_lexer": "ipython3",
   "version": "3.8.8"
  }
 },
 "nbformat": 4,
 "nbformat_minor": 4
}
